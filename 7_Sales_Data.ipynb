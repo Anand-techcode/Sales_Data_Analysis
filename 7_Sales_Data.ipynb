{
 "cells": [
  {
   "cell_type": "code",
   "execution_count": 1,
   "id": "4ce86ba5",
   "metadata": {},
   "outputs": [],
   "source": [
    "import pandas as pd\n",
    "import numpy as np\n",
    "import matplotlib.pyplot as plt\n",
    "import seaborn as sn\n",
    "sn.set()"
   ]
  },
  {
   "cell_type": "code",
   "execution_count": 2,
   "id": "8ea9142b",
   "metadata": {},
   "outputs": [],
   "source": [
    "import os"
   ]
  },
  {
   "cell_type": "code",
   "execution_count": 3,
   "id": "119b628e",
   "metadata": {},
   "outputs": [
    {
     "data": {
      "text/plain": [
       "['all_data.csv',\n",
       " 'Sales_April_2019.csv',\n",
       " 'Sales_August_2019.csv',\n",
       " 'Sales_December_2019.csv',\n",
       " 'Sales_February_2019.csv',\n",
       " 'Sales_January_2019.csv',\n",
       " 'Sales_July_2019.csv',\n",
       " 'Sales_June_2019.csv',\n",
       " 'Sales_March_2019.csv',\n",
       " 'Sales_May_2019.csv',\n",
       " 'Sales_November_2019.csv',\n",
       " 'Sales_October_2019.csv',\n",
       " 'Sales_September_2019.csv']"
      ]
     },
     "execution_count": 3,
     "metadata": {},
     "output_type": "execute_result"
    }
   ],
   "source": [
    "files = os.listdir(r'C:\\Users\\hp\\DataAnalyst\\Data_Analayst_Project\\7_Project\\Sales_Data')\n",
    "files"
   ]
  },
  {
   "cell_type": "code",
   "execution_count": 4,
   "id": "e7c76002",
   "metadata": {},
   "outputs": [],
   "source": [
    "final = pd.DataFrame()"
   ]
  },
  {
   "cell_type": "code",
   "execution_count": 5,
   "id": "764da209",
   "metadata": {},
   "outputs": [],
   "source": [
    "path = r\"C:\\Users\\hp\\DataAnalyst\\Data_Analayst_Project\\7_Project\\Sales_Data\""
   ]
  },
  {
   "cell_type": "code",
   "execution_count": 6,
   "id": "2308cded",
   "metadata": {},
   "outputs": [],
   "source": [
    "for file in files:\n",
    "    data = pd.read_csv(os.path.join(path, file), encoding='utf-8')\n",
    "    final = pd.concat([data, final])"
   ]
  },
  {
   "cell_type": "code",
   "execution_count": 7,
   "id": "d5622f06",
   "metadata": {},
   "outputs": [
    {
     "data": {
      "text/html": [
       "<div>\n",
       "<style scoped>\n",
       "    .dataframe tbody tr th:only-of-type {\n",
       "        vertical-align: middle;\n",
       "    }\n",
       "\n",
       "    .dataframe tbody tr th {\n",
       "        vertical-align: top;\n",
       "    }\n",
       "\n",
       "    .dataframe thead th {\n",
       "        text-align: right;\n",
       "    }\n",
       "</style>\n",
       "<table border=\"1\" class=\"dataframe\">\n",
       "  <thead>\n",
       "    <tr style=\"text-align: right;\">\n",
       "      <th></th>\n",
       "      <th>Order ID</th>\n",
       "      <th>Product</th>\n",
       "      <th>Quantity Ordered</th>\n",
       "      <th>Price Each</th>\n",
       "      <th>Order Date</th>\n",
       "      <th>Purchase Address</th>\n",
       "    </tr>\n",
       "  </thead>\n",
       "  <tbody>\n",
       "    <tr>\n",
       "      <th>0</th>\n",
       "      <td>248151</td>\n",
       "      <td>AA Batteries (4-pack)</td>\n",
       "      <td>4</td>\n",
       "      <td>3.84</td>\n",
       "      <td>09/17/19 14:44</td>\n",
       "      <td>380 North St, Los Angeles, CA 90001</td>\n",
       "    </tr>\n",
       "    <tr>\n",
       "      <th>1</th>\n",
       "      <td>248152</td>\n",
       "      <td>USB-C Charging Cable</td>\n",
       "      <td>2</td>\n",
       "      <td>11.95</td>\n",
       "      <td>09/29/19 10:19</td>\n",
       "      <td>511 8th St, Austin, TX 73301</td>\n",
       "    </tr>\n",
       "    <tr>\n",
       "      <th>2</th>\n",
       "      <td>248153</td>\n",
       "      <td>USB-C Charging Cable</td>\n",
       "      <td>1</td>\n",
       "      <td>11.95</td>\n",
       "      <td>09/16/19 17:48</td>\n",
       "      <td>151 Johnson St, Los Angeles, CA 90001</td>\n",
       "    </tr>\n",
       "    <tr>\n",
       "      <th>3</th>\n",
       "      <td>248154</td>\n",
       "      <td>27in FHD Monitor</td>\n",
       "      <td>1</td>\n",
       "      <td>149.99</td>\n",
       "      <td>09/27/19 07:52</td>\n",
       "      <td>355 Hickory St, Seattle, WA 98101</td>\n",
       "    </tr>\n",
       "    <tr>\n",
       "      <th>4</th>\n",
       "      <td>248155</td>\n",
       "      <td>USB-C Charging Cable</td>\n",
       "      <td>1</td>\n",
       "      <td>11.95</td>\n",
       "      <td>09/01/19 19:03</td>\n",
       "      <td>125 5th St, Atlanta, GA 30301</td>\n",
       "    </tr>\n",
       "    <tr>\n",
       "      <th>...</th>\n",
       "      <td>...</td>\n",
       "      <td>...</td>\n",
       "      <td>...</td>\n",
       "      <td>...</td>\n",
       "      <td>...</td>\n",
       "      <td>...</td>\n",
       "    </tr>\n",
       "    <tr>\n",
       "      <th>1307945</th>\n",
       "      <td>259353</td>\n",
       "      <td>AAA Batteries (4-pack)</td>\n",
       "      <td>3</td>\n",
       "      <td>2.99</td>\n",
       "      <td>09/17/19 20:56</td>\n",
       "      <td>840 Highland St, Los Angeles, CA 90001</td>\n",
       "    </tr>\n",
       "    <tr>\n",
       "      <th>1307946</th>\n",
       "      <td>259354</td>\n",
       "      <td>iPhone</td>\n",
       "      <td>1</td>\n",
       "      <td>700</td>\n",
       "      <td>09/01/19 16:00</td>\n",
       "      <td>216 Dogwood St, San Francisco, CA 94016</td>\n",
       "    </tr>\n",
       "    <tr>\n",
       "      <th>1307947</th>\n",
       "      <td>259355</td>\n",
       "      <td>iPhone</td>\n",
       "      <td>1</td>\n",
       "      <td>700</td>\n",
       "      <td>09/23/19 07:39</td>\n",
       "      <td>220 12th St, San Francisco, CA 94016</td>\n",
       "    </tr>\n",
       "    <tr>\n",
       "      <th>1307948</th>\n",
       "      <td>259356</td>\n",
       "      <td>34in Ultrawide Monitor</td>\n",
       "      <td>1</td>\n",
       "      <td>379.99</td>\n",
       "      <td>09/19/19 17:30</td>\n",
       "      <td>511 Forest St, San Francisco, CA 94016</td>\n",
       "    </tr>\n",
       "    <tr>\n",
       "      <th>1307949</th>\n",
       "      <td>259357</td>\n",
       "      <td>USB-C Charging Cable</td>\n",
       "      <td>1</td>\n",
       "      <td>11.95</td>\n",
       "      <td>09/30/19 00:18</td>\n",
       "      <td>250 Meadow St, San Francisco, CA 94016</td>\n",
       "    </tr>\n",
       "  </tbody>\n",
       "</table>\n",
       "<p>1494800 rows × 6 columns</p>\n",
       "</div>"
      ],
      "text/plain": [
       "        Order ID                 Product Quantity Ordered Price Each  \\\n",
       "0         248151   AA Batteries (4-pack)                4       3.84   \n",
       "1         248152    USB-C Charging Cable                2      11.95   \n",
       "2         248153    USB-C Charging Cable                1      11.95   \n",
       "3         248154        27in FHD Monitor                1     149.99   \n",
       "4         248155    USB-C Charging Cable                1      11.95   \n",
       "...          ...                     ...              ...        ...   \n",
       "1307945   259353  AAA Batteries (4-pack)                3       2.99   \n",
       "1307946   259354                  iPhone                1        700   \n",
       "1307947   259355                  iPhone                1        700   \n",
       "1307948   259356  34in Ultrawide Monitor                1     379.99   \n",
       "1307949   259357    USB-C Charging Cable                1      11.95   \n",
       "\n",
       "             Order Date                         Purchase Address  \n",
       "0        09/17/19 14:44      380 North St, Los Angeles, CA 90001  \n",
       "1        09/29/19 10:19             511 8th St, Austin, TX 73301  \n",
       "2        09/16/19 17:48    151 Johnson St, Los Angeles, CA 90001  \n",
       "3        09/27/19 07:52        355 Hickory St, Seattle, WA 98101  \n",
       "4        09/01/19 19:03            125 5th St, Atlanta, GA 30301  \n",
       "...                 ...                                      ...  \n",
       "1307945  09/17/19 20:56   840 Highland St, Los Angeles, CA 90001  \n",
       "1307946  09/01/19 16:00  216 Dogwood St, San Francisco, CA 94016  \n",
       "1307947  09/23/19 07:39     220 12th St, San Francisco, CA 94016  \n",
       "1307948  09/19/19 17:30   511 Forest St, San Francisco, CA 94016  \n",
       "1307949  09/30/19 00:18   250 Meadow St, San Francisco, CA 94016  \n",
       "\n",
       "[1494800 rows x 6 columns]"
      ]
     },
     "execution_count": 7,
     "metadata": {},
     "output_type": "execute_result"
    }
   ],
   "source": [
    "final"
   ]
  },
  {
   "cell_type": "code",
   "execution_count": 8,
   "id": "4e159c35",
   "metadata": {},
   "outputs": [
    {
     "data": {
      "text/plain": [
       "(1494800, 6)"
      ]
     },
     "execution_count": 8,
     "metadata": {},
     "output_type": "execute_result"
    }
   ],
   "source": [
    "final.shape"
   ]
  },
  {
   "cell_type": "code",
   "execution_count": 9,
   "id": "e884f565",
   "metadata": {},
   "outputs": [],
   "source": [
    "#storing all the merge csv file data ina new csv file"
   ]
  },
  {
   "cell_type": "code",
   "execution_count": 10,
   "id": "3ff5ffb6",
   "metadata": {},
   "outputs": [],
   "source": [
    "final.to_csv(r\"C:\\Users\\hp\\DataAnalyst\\Data_Analayst_Project\\7_Project\\Sales_Data\\all_data.csv\", index=False)\n"
   ]
  },
  {
   "cell_type": "code",
   "execution_count": 11,
   "id": "a7b4dae3",
   "metadata": {},
   "outputs": [],
   "source": [
    "df = pd.read_csv(r\"C:\\Users\\hp\\DataAnalyst\\Data_Analayst_Project\\7_Project\\Sales_Data\\all_data.csv\")"
   ]
  },
  {
   "cell_type": "code",
   "execution_count": 12,
   "id": "06e200bf",
   "metadata": {},
   "outputs": [
    {
     "data": {
      "text/html": [
       "<div>\n",
       "<style scoped>\n",
       "    .dataframe tbody tr th:only-of-type {\n",
       "        vertical-align: middle;\n",
       "    }\n",
       "\n",
       "    .dataframe tbody tr th {\n",
       "        vertical-align: top;\n",
       "    }\n",
       "\n",
       "    .dataframe thead th {\n",
       "        text-align: right;\n",
       "    }\n",
       "</style>\n",
       "<table border=\"1\" class=\"dataframe\">\n",
       "  <thead>\n",
       "    <tr style=\"text-align: right;\">\n",
       "      <th></th>\n",
       "      <th>Order ID</th>\n",
       "      <th>Product</th>\n",
       "      <th>Quantity Ordered</th>\n",
       "      <th>Price Each</th>\n",
       "      <th>Order Date</th>\n",
       "      <th>Purchase Address</th>\n",
       "    </tr>\n",
       "  </thead>\n",
       "  <tbody>\n",
       "    <tr>\n",
       "      <th>0</th>\n",
       "      <td>248151</td>\n",
       "      <td>AA Batteries (4-pack)</td>\n",
       "      <td>4</td>\n",
       "      <td>3.84</td>\n",
       "      <td>09/17/19 14:44</td>\n",
       "      <td>380 North St, Los Angeles, CA 90001</td>\n",
       "    </tr>\n",
       "    <tr>\n",
       "      <th>1</th>\n",
       "      <td>248152</td>\n",
       "      <td>USB-C Charging Cable</td>\n",
       "      <td>2</td>\n",
       "      <td>11.95</td>\n",
       "      <td>09/29/19 10:19</td>\n",
       "      <td>511 8th St, Austin, TX 73301</td>\n",
       "    </tr>\n",
       "    <tr>\n",
       "      <th>2</th>\n",
       "      <td>248153</td>\n",
       "      <td>USB-C Charging Cable</td>\n",
       "      <td>1</td>\n",
       "      <td>11.95</td>\n",
       "      <td>09/16/19 17:48</td>\n",
       "      <td>151 Johnson St, Los Angeles, CA 90001</td>\n",
       "    </tr>\n",
       "    <tr>\n",
       "      <th>3</th>\n",
       "      <td>248154</td>\n",
       "      <td>27in FHD Monitor</td>\n",
       "      <td>1</td>\n",
       "      <td>149.99</td>\n",
       "      <td>09/27/19 07:52</td>\n",
       "      <td>355 Hickory St, Seattle, WA 98101</td>\n",
       "    </tr>\n",
       "    <tr>\n",
       "      <th>4</th>\n",
       "      <td>248155</td>\n",
       "      <td>USB-C Charging Cable</td>\n",
       "      <td>1</td>\n",
       "      <td>11.95</td>\n",
       "      <td>09/01/19 19:03</td>\n",
       "      <td>125 5th St, Atlanta, GA 30301</td>\n",
       "    </tr>\n",
       "    <tr>\n",
       "      <th>...</th>\n",
       "      <td>...</td>\n",
       "      <td>...</td>\n",
       "      <td>...</td>\n",
       "      <td>...</td>\n",
       "      <td>...</td>\n",
       "      <td>...</td>\n",
       "    </tr>\n",
       "    <tr>\n",
       "      <th>1494795</th>\n",
       "      <td>259353</td>\n",
       "      <td>AAA Batteries (4-pack)</td>\n",
       "      <td>3</td>\n",
       "      <td>2.99</td>\n",
       "      <td>09/17/19 20:56</td>\n",
       "      <td>840 Highland St, Los Angeles, CA 90001</td>\n",
       "    </tr>\n",
       "    <tr>\n",
       "      <th>1494796</th>\n",
       "      <td>259354</td>\n",
       "      <td>iPhone</td>\n",
       "      <td>1</td>\n",
       "      <td>700</td>\n",
       "      <td>09/01/19 16:00</td>\n",
       "      <td>216 Dogwood St, San Francisco, CA 94016</td>\n",
       "    </tr>\n",
       "    <tr>\n",
       "      <th>1494797</th>\n",
       "      <td>259355</td>\n",
       "      <td>iPhone</td>\n",
       "      <td>1</td>\n",
       "      <td>700</td>\n",
       "      <td>09/23/19 07:39</td>\n",
       "      <td>220 12th St, San Francisco, CA 94016</td>\n",
       "    </tr>\n",
       "    <tr>\n",
       "      <th>1494798</th>\n",
       "      <td>259356</td>\n",
       "      <td>34in Ultrawide Monitor</td>\n",
       "      <td>1</td>\n",
       "      <td>379.99</td>\n",
       "      <td>09/19/19 17:30</td>\n",
       "      <td>511 Forest St, San Francisco, CA 94016</td>\n",
       "    </tr>\n",
       "    <tr>\n",
       "      <th>1494799</th>\n",
       "      <td>259357</td>\n",
       "      <td>USB-C Charging Cable</td>\n",
       "      <td>1</td>\n",
       "      <td>11.95</td>\n",
       "      <td>09/30/19 00:18</td>\n",
       "      <td>250 Meadow St, San Francisco, CA 94016</td>\n",
       "    </tr>\n",
       "  </tbody>\n",
       "</table>\n",
       "<p>1494800 rows × 6 columns</p>\n",
       "</div>"
      ],
      "text/plain": [
       "        Order ID                 Product Quantity Ordered Price Each  \\\n",
       "0         248151   AA Batteries (4-pack)                4       3.84   \n",
       "1         248152    USB-C Charging Cable                2      11.95   \n",
       "2         248153    USB-C Charging Cable                1      11.95   \n",
       "3         248154        27in FHD Monitor                1     149.99   \n",
       "4         248155    USB-C Charging Cable                1      11.95   \n",
       "...          ...                     ...              ...        ...   \n",
       "1494795   259353  AAA Batteries (4-pack)                3       2.99   \n",
       "1494796   259354                  iPhone                1        700   \n",
       "1494797   259355                  iPhone                1        700   \n",
       "1494798   259356  34in Ultrawide Monitor                1     379.99   \n",
       "1494799   259357    USB-C Charging Cable                1      11.95   \n",
       "\n",
       "             Order Date                         Purchase Address  \n",
       "0        09/17/19 14:44      380 North St, Los Angeles, CA 90001  \n",
       "1        09/29/19 10:19             511 8th St, Austin, TX 73301  \n",
       "2        09/16/19 17:48    151 Johnson St, Los Angeles, CA 90001  \n",
       "3        09/27/19 07:52        355 Hickory St, Seattle, WA 98101  \n",
       "4        09/01/19 19:03            125 5th St, Atlanta, GA 30301  \n",
       "...                 ...                                      ...  \n",
       "1494795  09/17/19 20:56   840 Highland St, Los Angeles, CA 90001  \n",
       "1494796  09/01/19 16:00  216 Dogwood St, San Francisco, CA 94016  \n",
       "1494797  09/23/19 07:39     220 12th St, San Francisco, CA 94016  \n",
       "1494798  09/19/19 17:30   511 Forest St, San Francisco, CA 94016  \n",
       "1494799  09/30/19 00:18   250 Meadow St, San Francisco, CA 94016  \n",
       "\n",
       "[1494800 rows x 6 columns]"
      ]
     },
     "execution_count": 12,
     "metadata": {},
     "output_type": "execute_result"
    }
   ],
   "source": [
    "df"
   ]
  },
  {
   "cell_type": "code",
   "execution_count": 13,
   "id": "75653978",
   "metadata": {},
   "outputs": [
    {
     "data": {
      "text/plain": [
       "Order ID            4360\n",
       "Product             4360\n",
       "Quantity Ordered    4360\n",
       "Price Each          4360\n",
       "Order Date          4360\n",
       "Purchase Address    4360\n",
       "dtype: int64"
      ]
     },
     "execution_count": 13,
     "metadata": {},
     "output_type": "execute_result"
    }
   ],
   "source": [
    "  final.isnull().sum()"
   ]
  },
  {
   "cell_type": "code",
   "execution_count": 14,
   "id": "af4fdd19",
   "metadata": {},
   "outputs": [],
   "source": [
    "final =final.dropna(how = 'all')  # here we are saying that where there is null values, remove that entire entries"
   ]
  },
  {
   "cell_type": "code",
   "execution_count": 15,
   "id": "b47b54cb",
   "metadata": {},
   "outputs": [
    {
     "data": {
      "text/plain": [
       "Order ID            0\n",
       "Product             0\n",
       "Quantity Ordered    0\n",
       "Price Each          0\n",
       "Order Date          0\n",
       "Purchase Address    0\n",
       "dtype: int64"
      ]
     },
     "execution_count": 15,
     "metadata": {},
     "output_type": "execute_result"
    }
   ],
   "source": [
    "  final.isnull().sum()"
   ]
  },
  {
   "cell_type": "markdown",
   "id": "c705cc37",
   "metadata": {},
   "source": [
    "# P- What is the best month for sale"
   ]
  },
  {
   "cell_type": "code",
   "execution_count": 16,
   "id": "24109116",
   "metadata": {
    "scrolled": true
   },
   "outputs": [
    {
     "data": {
      "text/plain": [
       "array(['09/17/19 14:44', '09/29/19 10:19', '09/16/19 17:48', ...,\n",
       "       '04/15/19 16:02', '04/14/19 15:09', '04/18/19 11:08'], dtype=object)"
      ]
     },
     "execution_count": 16,
     "metadata": {},
     "output_type": "execute_result"
    }
   ],
   "source": [
    "final['Order Date'].unique()"
   ]
  },
  {
   "cell_type": "markdown",
   "id": "83b2fd5e",
   "metadata": {},
   "source": [
    "# Convert using timestamp method\n",
    "\n",
    "final['Order Date'] = pd.to_datetime(final['Order Date'], format='%m/%d/%y %H:%M', errors='coerce')\n",
    "invalid_mask = final['Order Date'].isna()\n",
    "final_filtered = final[~invalid_mask]\n"
   ]
  },
  {
   "cell_type": "markdown",
   "id": "2df71cc7",
   "metadata": {},
   "source": [
    "\n",
    "final['MONTHS'] = final['Order Date'].dt.month"
   ]
  },
  {
   "cell_type": "markdown",
   "id": "a8b13e03",
   "metadata": {},
   "source": [
    "final"
   ]
  },
  {
   "cell_type": "markdown",
   "id": "6a50d033",
   "metadata": {},
   "source": [
    "# Identify the expected format: Determine the expected format of the values in the column. For example, if you expect the 'Order Date' column to have values in the format \"%m/%d/%y %H:%M\", define that as the expected format.\n",
    "\n",
    "Convert to datetime with errors='coerce': Use pd.to_datetime() with the errors='coerce' parameter to convert the column to datetime, allowing any invalid or unparseable values to be converted to NaT (Not a Time). This will ensure that the majority of valid values are converted correctly, while any unexpected values are replaced with NaT.\n",
    "    \n",
    "    \n",
    "    Filter out invalid values: Create a boolean mask to identify rows where the 'Order Date' column contains NaT values, indicating invalid or unexpected values.\n",
    "        \n",
    "    invalid_mask = final['Order Date'].isna()\n",
    "\n",
    "    \n",
    "    \n"
   ]
  },
  {
   "cell_type": "code",
   "execution_count": 17,
   "id": "f8fc3539",
   "metadata": {},
   "outputs": [],
   "source": [
    "# Extract month by suing split functions"
   ]
  },
  {
   "cell_type": "code",
   "execution_count": 18,
   "id": "ae2742fd",
   "metadata": {},
   "outputs": [],
   "source": [
    "# let take one date"
   ]
  },
  {
   "cell_type": "code",
   "execution_count": null,
   "id": "e8f47c7a",
   "metadata": {},
   "outputs": [],
   "source": []
  },
  {
   "cell_type": "code",
   "execution_count": 19,
   "id": "68dc2b05",
   "metadata": {},
   "outputs": [
    {
     "data": {
      "text/plain": [
       "['09', '17', '19 14:44']"
      ]
     },
     "execution_count": 19,
     "metadata": {},
     "output_type": "execute_result"
    }
   ],
   "source": [
    "\"09/17/19 14:44\".split(\"/\")"
   ]
  },
  {
   "cell_type": "code",
   "execution_count": 20,
   "id": "818ee116",
   "metadata": {},
   "outputs": [
    {
     "data": {
      "text/plain": [
       "'09'"
      ]
     },
     "execution_count": 20,
     "metadata": {},
     "output_type": "execute_result"
    }
   ],
   "source": [
    "\"09/17/19 14:44\".split(\"/\")[0]"
   ]
  },
  {
   "cell_type": "code",
   "execution_count": 21,
   "id": "14082dca",
   "metadata": {},
   "outputs": [],
   "source": [
    "# so we can make a function  that can take out month by this way of spliting\n",
    "\n",
    "def month(x):\n",
    "    return x.split(\"/\")[0]"
   ]
  },
  {
   "cell_type": "code",
   "execution_count": 22,
   "id": "eea6de0f",
   "metadata": {},
   "outputs": [
    {
     "name": "stderr",
     "output_type": "stream",
     "text": [
      "C:\\Users\\hp\\AppData\\Local\\Temp\\ipykernel_3852\\2061450754.py:1: SettingWithCopyWarning: \n",
      "A value is trying to be set on a copy of a slice from a DataFrame.\n",
      "Try using .loc[row_indexer,col_indexer] = value instead\n",
      "\n",
      "See the caveats in the documentation: https://pandas.pydata.org/pandas-docs/stable/user_guide/indexing.html#returning-a-view-versus-a-copy\n",
      "  final['Month'] = final['Order Date'].apply(month)\n"
     ]
    }
   ],
   "source": [
    "final['Month'] = final['Order Date'].apply(month)"
   ]
  },
  {
   "cell_type": "code",
   "execution_count": 23,
   "id": "eac1807b",
   "metadata": {},
   "outputs": [
    {
     "data": {
      "text/html": [
       "<div>\n",
       "<style scoped>\n",
       "    .dataframe tbody tr th:only-of-type {\n",
       "        vertical-align: middle;\n",
       "    }\n",
       "\n",
       "    .dataframe tbody tr th {\n",
       "        vertical-align: top;\n",
       "    }\n",
       "\n",
       "    .dataframe thead th {\n",
       "        text-align: right;\n",
       "    }\n",
       "</style>\n",
       "<table border=\"1\" class=\"dataframe\">\n",
       "  <thead>\n",
       "    <tr style=\"text-align: right;\">\n",
       "      <th></th>\n",
       "      <th>Order ID</th>\n",
       "      <th>Product</th>\n",
       "      <th>Quantity Ordered</th>\n",
       "      <th>Price Each</th>\n",
       "      <th>Order Date</th>\n",
       "      <th>Purchase Address</th>\n",
       "      <th>Month</th>\n",
       "    </tr>\n",
       "  </thead>\n",
       "  <tbody>\n",
       "    <tr>\n",
       "      <th>0</th>\n",
       "      <td>248151</td>\n",
       "      <td>AA Batteries (4-pack)</td>\n",
       "      <td>4</td>\n",
       "      <td>3.84</td>\n",
       "      <td>09/17/19 14:44</td>\n",
       "      <td>380 North St, Los Angeles, CA 90001</td>\n",
       "      <td>09</td>\n",
       "    </tr>\n",
       "    <tr>\n",
       "      <th>1</th>\n",
       "      <td>248152</td>\n",
       "      <td>USB-C Charging Cable</td>\n",
       "      <td>2</td>\n",
       "      <td>11.95</td>\n",
       "      <td>09/29/19 10:19</td>\n",
       "      <td>511 8th St, Austin, TX 73301</td>\n",
       "      <td>09</td>\n",
       "    </tr>\n",
       "    <tr>\n",
       "      <th>2</th>\n",
       "      <td>248153</td>\n",
       "      <td>USB-C Charging Cable</td>\n",
       "      <td>1</td>\n",
       "      <td>11.95</td>\n",
       "      <td>09/16/19 17:48</td>\n",
       "      <td>151 Johnson St, Los Angeles, CA 90001</td>\n",
       "      <td>09</td>\n",
       "    </tr>\n",
       "    <tr>\n",
       "      <th>3</th>\n",
       "      <td>248154</td>\n",
       "      <td>27in FHD Monitor</td>\n",
       "      <td>1</td>\n",
       "      <td>149.99</td>\n",
       "      <td>09/27/19 07:52</td>\n",
       "      <td>355 Hickory St, Seattle, WA 98101</td>\n",
       "      <td>09</td>\n",
       "    </tr>\n",
       "    <tr>\n",
       "      <th>4</th>\n",
       "      <td>248155</td>\n",
       "      <td>USB-C Charging Cable</td>\n",
       "      <td>1</td>\n",
       "      <td>11.95</td>\n",
       "      <td>09/01/19 19:03</td>\n",
       "      <td>125 5th St, Atlanta, GA 30301</td>\n",
       "      <td>09</td>\n",
       "    </tr>\n",
       "    <tr>\n",
       "      <th>...</th>\n",
       "      <td>...</td>\n",
       "      <td>...</td>\n",
       "      <td>...</td>\n",
       "      <td>...</td>\n",
       "      <td>...</td>\n",
       "      <td>...</td>\n",
       "      <td>...</td>\n",
       "    </tr>\n",
       "    <tr>\n",
       "      <th>1307945</th>\n",
       "      <td>259353</td>\n",
       "      <td>AAA Batteries (4-pack)</td>\n",
       "      <td>3</td>\n",
       "      <td>2.99</td>\n",
       "      <td>09/17/19 20:56</td>\n",
       "      <td>840 Highland St, Los Angeles, CA 90001</td>\n",
       "      <td>09</td>\n",
       "    </tr>\n",
       "    <tr>\n",
       "      <th>1307946</th>\n",
       "      <td>259354</td>\n",
       "      <td>iPhone</td>\n",
       "      <td>1</td>\n",
       "      <td>700</td>\n",
       "      <td>09/01/19 16:00</td>\n",
       "      <td>216 Dogwood St, San Francisco, CA 94016</td>\n",
       "      <td>09</td>\n",
       "    </tr>\n",
       "    <tr>\n",
       "      <th>1307947</th>\n",
       "      <td>259355</td>\n",
       "      <td>iPhone</td>\n",
       "      <td>1</td>\n",
       "      <td>700</td>\n",
       "      <td>09/23/19 07:39</td>\n",
       "      <td>220 12th St, San Francisco, CA 94016</td>\n",
       "      <td>09</td>\n",
       "    </tr>\n",
       "    <tr>\n",
       "      <th>1307948</th>\n",
       "      <td>259356</td>\n",
       "      <td>34in Ultrawide Monitor</td>\n",
       "      <td>1</td>\n",
       "      <td>379.99</td>\n",
       "      <td>09/19/19 17:30</td>\n",
       "      <td>511 Forest St, San Francisco, CA 94016</td>\n",
       "      <td>09</td>\n",
       "    </tr>\n",
       "    <tr>\n",
       "      <th>1307949</th>\n",
       "      <td>259357</td>\n",
       "      <td>USB-C Charging Cable</td>\n",
       "      <td>1</td>\n",
       "      <td>11.95</td>\n",
       "      <td>09/30/19 00:18</td>\n",
       "      <td>250 Meadow St, San Francisco, CA 94016</td>\n",
       "      <td>09</td>\n",
       "    </tr>\n",
       "  </tbody>\n",
       "</table>\n",
       "<p>1490440 rows × 7 columns</p>\n",
       "</div>"
      ],
      "text/plain": [
       "        Order ID                 Product Quantity Ordered Price Each  \\\n",
       "0         248151   AA Batteries (4-pack)                4       3.84   \n",
       "1         248152    USB-C Charging Cable                2      11.95   \n",
       "2         248153    USB-C Charging Cable                1      11.95   \n",
       "3         248154        27in FHD Monitor                1     149.99   \n",
       "4         248155    USB-C Charging Cable                1      11.95   \n",
       "...          ...                     ...              ...        ...   \n",
       "1307945   259353  AAA Batteries (4-pack)                3       2.99   \n",
       "1307946   259354                  iPhone                1        700   \n",
       "1307947   259355                  iPhone                1        700   \n",
       "1307948   259356  34in Ultrawide Monitor                1     379.99   \n",
       "1307949   259357    USB-C Charging Cable                1      11.95   \n",
       "\n",
       "             Order Date                         Purchase Address Month  \n",
       "0        09/17/19 14:44      380 North St, Los Angeles, CA 90001    09  \n",
       "1        09/29/19 10:19             511 8th St, Austin, TX 73301    09  \n",
       "2        09/16/19 17:48    151 Johnson St, Los Angeles, CA 90001    09  \n",
       "3        09/27/19 07:52        355 Hickory St, Seattle, WA 98101    09  \n",
       "4        09/01/19 19:03            125 5th St, Atlanta, GA 30301    09  \n",
       "...                 ...                                      ...   ...  \n",
       "1307945  09/17/19 20:56   840 Highland St, Los Angeles, CA 90001    09  \n",
       "1307946  09/01/19 16:00  216 Dogwood St, San Francisco, CA 94016    09  \n",
       "1307947  09/23/19 07:39     220 12th St, San Francisco, CA 94016    09  \n",
       "1307948  09/19/19 17:30   511 Forest St, San Francisco, CA 94016    09  \n",
       "1307949  09/30/19 00:18   250 Meadow St, San Francisco, CA 94016    09  \n",
       "\n",
       "[1490440 rows x 7 columns]"
      ]
     },
     "execution_count": 23,
     "metadata": {},
     "output_type": "execute_result"
    }
   ],
   "source": [
    "final"
   ]
  },
  {
   "cell_type": "code",
   "execution_count": 24,
   "id": "f45434ff",
   "metadata": {},
   "outputs": [
    {
     "data": {
      "text/plain": [
       "array(['09', '10', 'Order Date', '11', '12', '05', '06', '03', '04', '07',\n",
       "       '08', '01', '02'], dtype=object)"
      ]
     },
     "execution_count": 24,
     "metadata": {},
     "output_type": "execute_result"
    }
   ],
   "source": [
    "final['Month'].unique()"
   ]
  },
  {
   "cell_type": "code",
   "execution_count": 25,
   "id": "be1fd506",
   "metadata": {},
   "outputs": [],
   "source": [
    "#now here we can see that month has some unique valuee which cannot be formated to timestamp"
   ]
  },
  {
   "cell_type": "code",
   "execution_count": 26,
   "id": "56892cf9",
   "metadata": {},
   "outputs": [],
   "source": [
    "filter = final['Month'] == 'Order Date'"
   ]
  },
  {
   "cell_type": "code",
   "execution_count": 27,
   "id": "06eb9e1a",
   "metadata": {},
   "outputs": [],
   "source": [
    "final = final[~filter]\n",
    "\n",
    "#the code removes the rows from the DataFrame final where the value in the 'Month' column is equal to 'Order Date'.\n",
    "\n",
    "#The ~ operator is generally used for negation or inverting boolean conditions. It can be used in combination with other logical operators such as & (and), | (or), and parentheses for more complex conditions. It's handy when you want to negate a boolean condition before using it for filtering, masking, or other operations."
   ]
  },
  {
   "cell_type": "code",
   "execution_count": 28,
   "id": "1405db2d",
   "metadata": {},
   "outputs": [
    {
     "data": {
      "text/plain": [
       "Order ID            object\n",
       "Product             object\n",
       "Quantity Ordered    object\n",
       "Price Each          object\n",
       "Order Date          object\n",
       "Purchase Address    object\n",
       "Month               object\n",
       "dtype: object"
      ]
     },
     "execution_count": 28,
     "metadata": {},
     "output_type": "execute_result"
    }
   ],
   "source": [
    "final.dtypes"
   ]
  },
  {
   "cell_type": "code",
   "execution_count": 29,
   "id": "ed664304",
   "metadata": {},
   "outputs": [
    {
     "name": "stderr",
     "output_type": "stream",
     "text": [
      "C:\\Users\\hp\\AppData\\Local\\Temp\\ipykernel_3852\\3167526038.py:1: SettingWithCopyWarning: \n",
      "A value is trying to be set on a copy of a slice from a DataFrame.\n",
      "Try using .loc[row_indexer,col_indexer] = value instead\n",
      "\n",
      "See the caveats in the documentation: https://pandas.pydata.org/pandas-docs/stable/user_guide/indexing.html#returning-a-view-versus-a-copy\n",
      "  final['Month'] = final['Month'].astype(int)\n"
     ]
    }
   ],
   "source": [
    "final['Month'] = final['Month'].astype(int)"
   ]
  },
  {
   "cell_type": "markdown",
   "id": "3b66f796",
   "metadata": {},
   "source": [
    "# now to find the sales we have to multiply Quantity order and price each column"
   ]
  },
  {
   "cell_type": "code",
   "execution_count": 30,
   "id": "67e8851e",
   "metadata": {},
   "outputs": [
    {
     "ename": "TypeError",
     "evalue": "can't multiply sequence by non-int of type 'str'",
     "output_type": "error",
     "traceback": [
      "\u001b[1;31m---------------------------------------------------------------------------\u001b[0m",
      "\u001b[1;31mTypeError\u001b[0m                                 Traceback (most recent call last)",
      "\u001b[1;32m~\\anaconda3\\lib\\site-packages\\pandas\\core\\ops\\array_ops.py\u001b[0m in \u001b[0;36m_na_arithmetic_op\u001b[1;34m(left, right, op, is_cmp)\u001b[0m\n\u001b[0;32m    170\u001b[0m     \u001b[1;32mtry\u001b[0m\u001b[1;33m:\u001b[0m\u001b[1;33m\u001b[0m\u001b[1;33m\u001b[0m\u001b[0m\n\u001b[1;32m--> 171\u001b[1;33m         \u001b[0mresult\u001b[0m \u001b[1;33m=\u001b[0m \u001b[0mfunc\u001b[0m\u001b[1;33m(\u001b[0m\u001b[0mleft\u001b[0m\u001b[1;33m,\u001b[0m \u001b[0mright\u001b[0m\u001b[1;33m)\u001b[0m\u001b[1;33m\u001b[0m\u001b[1;33m\u001b[0m\u001b[0m\n\u001b[0m\u001b[0;32m    172\u001b[0m     \u001b[1;32mexcept\u001b[0m \u001b[0mTypeError\u001b[0m\u001b[1;33m:\u001b[0m\u001b[1;33m\u001b[0m\u001b[1;33m\u001b[0m\u001b[0m\n",
      "\u001b[1;32m~\\anaconda3\\lib\\site-packages\\pandas\\core\\computation\\expressions.py\u001b[0m in \u001b[0;36mevaluate\u001b[1;34m(op, a, b, use_numexpr)\u001b[0m\n\u001b[0;32m    238\u001b[0m             \u001b[1;31m# error: \"None\" not callable\u001b[0m\u001b[1;33m\u001b[0m\u001b[1;33m\u001b[0m\u001b[0m\n\u001b[1;32m--> 239\u001b[1;33m             \u001b[1;32mreturn\u001b[0m \u001b[0m_evaluate\u001b[0m\u001b[1;33m(\u001b[0m\u001b[0mop\u001b[0m\u001b[1;33m,\u001b[0m \u001b[0mop_str\u001b[0m\u001b[1;33m,\u001b[0m \u001b[0ma\u001b[0m\u001b[1;33m,\u001b[0m \u001b[0mb\u001b[0m\u001b[1;33m)\u001b[0m  \u001b[1;31m# type: ignore[misc]\u001b[0m\u001b[1;33m\u001b[0m\u001b[1;33m\u001b[0m\u001b[0m\n\u001b[0m\u001b[0;32m    240\u001b[0m     \u001b[1;32mreturn\u001b[0m \u001b[0m_evaluate_standard\u001b[0m\u001b[1;33m(\u001b[0m\u001b[0mop\u001b[0m\u001b[1;33m,\u001b[0m \u001b[0mop_str\u001b[0m\u001b[1;33m,\u001b[0m \u001b[0ma\u001b[0m\u001b[1;33m,\u001b[0m \u001b[0mb\u001b[0m\u001b[1;33m)\u001b[0m\u001b[1;33m\u001b[0m\u001b[1;33m\u001b[0m\u001b[0m\n",
      "\u001b[1;32m~\\anaconda3\\lib\\site-packages\\pandas\\core\\computation\\expressions.py\u001b[0m in \u001b[0;36m_evaluate_numexpr\u001b[1;34m(op, op_str, a, b)\u001b[0m\n\u001b[0;32m    127\u001b[0m     \u001b[1;32mif\u001b[0m \u001b[0mresult\u001b[0m \u001b[1;32mis\u001b[0m \u001b[1;32mNone\u001b[0m\u001b[1;33m:\u001b[0m\u001b[1;33m\u001b[0m\u001b[1;33m\u001b[0m\u001b[0m\n\u001b[1;32m--> 128\u001b[1;33m         \u001b[0mresult\u001b[0m \u001b[1;33m=\u001b[0m \u001b[0m_evaluate_standard\u001b[0m\u001b[1;33m(\u001b[0m\u001b[0mop\u001b[0m\u001b[1;33m,\u001b[0m \u001b[0mop_str\u001b[0m\u001b[1;33m,\u001b[0m \u001b[0ma\u001b[0m\u001b[1;33m,\u001b[0m \u001b[0mb\u001b[0m\u001b[1;33m)\u001b[0m\u001b[1;33m\u001b[0m\u001b[1;33m\u001b[0m\u001b[0m\n\u001b[0m\u001b[0;32m    129\u001b[0m \u001b[1;33m\u001b[0m\u001b[0m\n",
      "\u001b[1;32m~\\anaconda3\\lib\\site-packages\\pandas\\core\\computation\\expressions.py\u001b[0m in \u001b[0;36m_evaluate_standard\u001b[1;34m(op, op_str, a, b)\u001b[0m\n\u001b[0;32m     69\u001b[0m         \u001b[0m_store_test_result\u001b[0m\u001b[1;33m(\u001b[0m\u001b[1;32mFalse\u001b[0m\u001b[1;33m)\u001b[0m\u001b[1;33m\u001b[0m\u001b[1;33m\u001b[0m\u001b[0m\n\u001b[1;32m---> 70\u001b[1;33m     \u001b[1;32mreturn\u001b[0m \u001b[0mop\u001b[0m\u001b[1;33m(\u001b[0m\u001b[0ma\u001b[0m\u001b[1;33m,\u001b[0m \u001b[0mb\u001b[0m\u001b[1;33m)\u001b[0m\u001b[1;33m\u001b[0m\u001b[1;33m\u001b[0m\u001b[0m\n\u001b[0m\u001b[0;32m     71\u001b[0m \u001b[1;33m\u001b[0m\u001b[0m\n",
      "\u001b[1;31mTypeError\u001b[0m: can't multiply sequence by non-int of type 'str'",
      "\nDuring handling of the above exception, another exception occurred:\n",
      "\u001b[1;31mTypeError\u001b[0m                                 Traceback (most recent call last)",
      "\u001b[1;32m~\\AppData\\Local\\Temp\\ipykernel_3852\\3705908643.py\u001b[0m in \u001b[0;36m<module>\u001b[1;34m\u001b[0m\n\u001b[1;32m----> 1\u001b[1;33m \u001b[0mfinal\u001b[0m\u001b[1;33m[\u001b[0m\u001b[1;34m'Sales'\u001b[0m\u001b[1;33m]\u001b[0m \u001b[1;33m=\u001b[0m \u001b[0mfinal\u001b[0m\u001b[1;33m[\u001b[0m\u001b[1;34m'Quantity Ordered'\u001b[0m\u001b[1;33m]\u001b[0m \u001b[1;33m*\u001b[0m \u001b[0mfinal\u001b[0m\u001b[1;33m[\u001b[0m\u001b[1;34m'Price Each'\u001b[0m\u001b[1;33m]\u001b[0m\u001b[1;33m\u001b[0m\u001b[1;33m\u001b[0m\u001b[0m\n\u001b[0m",
      "\u001b[1;32m~\\anaconda3\\lib\\site-packages\\pandas\\core\\ops\\common.py\u001b[0m in \u001b[0;36mnew_method\u001b[1;34m(self, other)\u001b[0m\n\u001b[0;32m     79\u001b[0m         \u001b[0mother\u001b[0m \u001b[1;33m=\u001b[0m \u001b[0mitem_from_zerodim\u001b[0m\u001b[1;33m(\u001b[0m\u001b[0mother\u001b[0m\u001b[1;33m)\u001b[0m\u001b[1;33m\u001b[0m\u001b[1;33m\u001b[0m\u001b[0m\n\u001b[0;32m     80\u001b[0m \u001b[1;33m\u001b[0m\u001b[0m\n\u001b[1;32m---> 81\u001b[1;33m         \u001b[1;32mreturn\u001b[0m \u001b[0mmethod\u001b[0m\u001b[1;33m(\u001b[0m\u001b[0mself\u001b[0m\u001b[1;33m,\u001b[0m \u001b[0mother\u001b[0m\u001b[1;33m)\u001b[0m\u001b[1;33m\u001b[0m\u001b[1;33m\u001b[0m\u001b[0m\n\u001b[0m\u001b[0;32m     82\u001b[0m \u001b[1;33m\u001b[0m\u001b[0m\n\u001b[0;32m     83\u001b[0m     \u001b[1;32mreturn\u001b[0m \u001b[0mnew_method\u001b[0m\u001b[1;33m\u001b[0m\u001b[1;33m\u001b[0m\u001b[0m\n",
      "\u001b[1;32m~\\anaconda3\\lib\\site-packages\\pandas\\core\\arraylike.py\u001b[0m in \u001b[0;36m__mul__\u001b[1;34m(self, other)\u001b[0m\n\u001b[0;32m    200\u001b[0m     \u001b[1;33m@\u001b[0m\u001b[0munpack_zerodim_and_defer\u001b[0m\u001b[1;33m(\u001b[0m\u001b[1;34m\"__mul__\"\u001b[0m\u001b[1;33m)\u001b[0m\u001b[1;33m\u001b[0m\u001b[1;33m\u001b[0m\u001b[0m\n\u001b[0;32m    201\u001b[0m     \u001b[1;32mdef\u001b[0m \u001b[0m__mul__\u001b[0m\u001b[1;33m(\u001b[0m\u001b[0mself\u001b[0m\u001b[1;33m,\u001b[0m \u001b[0mother\u001b[0m\u001b[1;33m)\u001b[0m\u001b[1;33m:\u001b[0m\u001b[1;33m\u001b[0m\u001b[1;33m\u001b[0m\u001b[0m\n\u001b[1;32m--> 202\u001b[1;33m         \u001b[1;32mreturn\u001b[0m \u001b[0mself\u001b[0m\u001b[1;33m.\u001b[0m\u001b[0m_arith_method\u001b[0m\u001b[1;33m(\u001b[0m\u001b[0mother\u001b[0m\u001b[1;33m,\u001b[0m \u001b[0moperator\u001b[0m\u001b[1;33m.\u001b[0m\u001b[0mmul\u001b[0m\u001b[1;33m)\u001b[0m\u001b[1;33m\u001b[0m\u001b[1;33m\u001b[0m\u001b[0m\n\u001b[0m\u001b[0;32m    203\u001b[0m \u001b[1;33m\u001b[0m\u001b[0m\n\u001b[0;32m    204\u001b[0m     \u001b[1;33m@\u001b[0m\u001b[0munpack_zerodim_and_defer\u001b[0m\u001b[1;33m(\u001b[0m\u001b[1;34m\"__rmul__\"\u001b[0m\u001b[1;33m)\u001b[0m\u001b[1;33m\u001b[0m\u001b[1;33m\u001b[0m\u001b[0m\n",
      "\u001b[1;32m~\\anaconda3\\lib\\site-packages\\pandas\\core\\series.py\u001b[0m in \u001b[0;36m_arith_method\u001b[1;34m(self, other, op)\u001b[0m\n\u001b[0;32m   6110\u001b[0m     \u001b[1;32mdef\u001b[0m \u001b[0m_arith_method\u001b[0m\u001b[1;33m(\u001b[0m\u001b[0mself\u001b[0m\u001b[1;33m,\u001b[0m \u001b[0mother\u001b[0m\u001b[1;33m,\u001b[0m \u001b[0mop\u001b[0m\u001b[1;33m)\u001b[0m\u001b[1;33m:\u001b[0m\u001b[1;33m\u001b[0m\u001b[1;33m\u001b[0m\u001b[0m\n\u001b[0;32m   6111\u001b[0m         \u001b[0mself\u001b[0m\u001b[1;33m,\u001b[0m \u001b[0mother\u001b[0m \u001b[1;33m=\u001b[0m \u001b[0mops\u001b[0m\u001b[1;33m.\u001b[0m\u001b[0malign_method_SERIES\u001b[0m\u001b[1;33m(\u001b[0m\u001b[0mself\u001b[0m\u001b[1;33m,\u001b[0m \u001b[0mother\u001b[0m\u001b[1;33m)\u001b[0m\u001b[1;33m\u001b[0m\u001b[1;33m\u001b[0m\u001b[0m\n\u001b[1;32m-> 6112\u001b[1;33m         \u001b[1;32mreturn\u001b[0m \u001b[0mbase\u001b[0m\u001b[1;33m.\u001b[0m\u001b[0mIndexOpsMixin\u001b[0m\u001b[1;33m.\u001b[0m\u001b[0m_arith_method\u001b[0m\u001b[1;33m(\u001b[0m\u001b[0mself\u001b[0m\u001b[1;33m,\u001b[0m \u001b[0mother\u001b[0m\u001b[1;33m,\u001b[0m \u001b[0mop\u001b[0m\u001b[1;33m)\u001b[0m\u001b[1;33m\u001b[0m\u001b[1;33m\u001b[0m\u001b[0m\n\u001b[0m\u001b[0;32m   6113\u001b[0m \u001b[1;33m\u001b[0m\u001b[0m\n\u001b[0;32m   6114\u001b[0m \u001b[1;33m\u001b[0m\u001b[0m\n",
      "\u001b[1;32m~\\anaconda3\\lib\\site-packages\\pandas\\core\\base.py\u001b[0m in \u001b[0;36m_arith_method\u001b[1;34m(self, other, op)\u001b[0m\n\u001b[0;32m   1346\u001b[0m \u001b[1;33m\u001b[0m\u001b[0m\n\u001b[0;32m   1347\u001b[0m         \u001b[1;32mwith\u001b[0m \u001b[0mnp\u001b[0m\u001b[1;33m.\u001b[0m\u001b[0merrstate\u001b[0m\u001b[1;33m(\u001b[0m\u001b[0mall\u001b[0m\u001b[1;33m=\u001b[0m\u001b[1;34m\"ignore\"\u001b[0m\u001b[1;33m)\u001b[0m\u001b[1;33m:\u001b[0m\u001b[1;33m\u001b[0m\u001b[1;33m\u001b[0m\u001b[0m\n\u001b[1;32m-> 1348\u001b[1;33m             \u001b[0mresult\u001b[0m \u001b[1;33m=\u001b[0m \u001b[0mops\u001b[0m\u001b[1;33m.\u001b[0m\u001b[0marithmetic_op\u001b[0m\u001b[1;33m(\u001b[0m\u001b[0mlvalues\u001b[0m\u001b[1;33m,\u001b[0m \u001b[0mrvalues\u001b[0m\u001b[1;33m,\u001b[0m \u001b[0mop\u001b[0m\u001b[1;33m)\u001b[0m\u001b[1;33m\u001b[0m\u001b[1;33m\u001b[0m\u001b[0m\n\u001b[0m\u001b[0;32m   1349\u001b[0m \u001b[1;33m\u001b[0m\u001b[0m\n\u001b[0;32m   1350\u001b[0m         \u001b[1;32mreturn\u001b[0m \u001b[0mself\u001b[0m\u001b[1;33m.\u001b[0m\u001b[0m_construct_result\u001b[0m\u001b[1;33m(\u001b[0m\u001b[0mresult\u001b[0m\u001b[1;33m,\u001b[0m \u001b[0mname\u001b[0m\u001b[1;33m=\u001b[0m\u001b[0mres_name\u001b[0m\u001b[1;33m)\u001b[0m\u001b[1;33m\u001b[0m\u001b[1;33m\u001b[0m\u001b[0m\n",
      "\u001b[1;32m~\\anaconda3\\lib\\site-packages\\pandas\\core\\ops\\array_ops.py\u001b[0m in \u001b[0;36marithmetic_op\u001b[1;34m(left, right, op)\u001b[0m\n\u001b[0;32m    230\u001b[0m         \u001b[1;31m# error: Argument 1 to \"_na_arithmetic_op\" has incompatible type\u001b[0m\u001b[1;33m\u001b[0m\u001b[1;33m\u001b[0m\u001b[0m\n\u001b[0;32m    231\u001b[0m         \u001b[1;31m# \"Union[ExtensionArray, ndarray[Any, Any]]\"; expected \"ndarray[Any, Any]\"\u001b[0m\u001b[1;33m\u001b[0m\u001b[1;33m\u001b[0m\u001b[0m\n\u001b[1;32m--> 232\u001b[1;33m         \u001b[0mres_values\u001b[0m \u001b[1;33m=\u001b[0m \u001b[0m_na_arithmetic_op\u001b[0m\u001b[1;33m(\u001b[0m\u001b[0mleft\u001b[0m\u001b[1;33m,\u001b[0m \u001b[0mright\u001b[0m\u001b[1;33m,\u001b[0m \u001b[0mop\u001b[0m\u001b[1;33m)\u001b[0m  \u001b[1;31m# type: ignore[arg-type]\u001b[0m\u001b[1;33m\u001b[0m\u001b[1;33m\u001b[0m\u001b[0m\n\u001b[0m\u001b[0;32m    233\u001b[0m \u001b[1;33m\u001b[0m\u001b[0m\n\u001b[0;32m    234\u001b[0m     \u001b[1;32mreturn\u001b[0m \u001b[0mres_values\u001b[0m\u001b[1;33m\u001b[0m\u001b[1;33m\u001b[0m\u001b[0m\n",
      "\u001b[1;32m~\\anaconda3\\lib\\site-packages\\pandas\\core\\ops\\array_ops.py\u001b[0m in \u001b[0;36m_na_arithmetic_op\u001b[1;34m(left, right, op, is_cmp)\u001b[0m\n\u001b[0;32m    176\u001b[0m             \u001b[1;31m# Don't do this for comparisons, as that will handle complex numbers\u001b[0m\u001b[1;33m\u001b[0m\u001b[1;33m\u001b[0m\u001b[0m\n\u001b[0;32m    177\u001b[0m             \u001b[1;31m#  incorrectly, see GH#32047\u001b[0m\u001b[1;33m\u001b[0m\u001b[1;33m\u001b[0m\u001b[0m\n\u001b[1;32m--> 178\u001b[1;33m             \u001b[0mresult\u001b[0m \u001b[1;33m=\u001b[0m \u001b[0m_masked_arith_op\u001b[0m\u001b[1;33m(\u001b[0m\u001b[0mleft\u001b[0m\u001b[1;33m,\u001b[0m \u001b[0mright\u001b[0m\u001b[1;33m,\u001b[0m \u001b[0mop\u001b[0m\u001b[1;33m)\u001b[0m\u001b[1;33m\u001b[0m\u001b[1;33m\u001b[0m\u001b[0m\n\u001b[0m\u001b[0;32m    179\u001b[0m         \u001b[1;32melse\u001b[0m\u001b[1;33m:\u001b[0m\u001b[1;33m\u001b[0m\u001b[1;33m\u001b[0m\u001b[0m\n\u001b[0;32m    180\u001b[0m             \u001b[1;32mraise\u001b[0m\u001b[1;33m\u001b[0m\u001b[1;33m\u001b[0m\u001b[0m\n",
      "\u001b[1;32m~\\anaconda3\\lib\\site-packages\\pandas\\core\\ops\\array_ops.py\u001b[0m in \u001b[0;36m_masked_arith_op\u001b[1;34m(x, y, op)\u001b[0m\n\u001b[0;32m    114\u001b[0m         \u001b[1;31m# See GH#5284, GH#5035, GH#19448 for historical reference\u001b[0m\u001b[1;33m\u001b[0m\u001b[1;33m\u001b[0m\u001b[0m\n\u001b[0;32m    115\u001b[0m         \u001b[1;32mif\u001b[0m \u001b[0mmask\u001b[0m\u001b[1;33m.\u001b[0m\u001b[0many\u001b[0m\u001b[1;33m(\u001b[0m\u001b[1;33m)\u001b[0m\u001b[1;33m:\u001b[0m\u001b[1;33m\u001b[0m\u001b[1;33m\u001b[0m\u001b[0m\n\u001b[1;32m--> 116\u001b[1;33m             \u001b[0mresult\u001b[0m\u001b[1;33m[\u001b[0m\u001b[0mmask\u001b[0m\u001b[1;33m]\u001b[0m \u001b[1;33m=\u001b[0m \u001b[0mop\u001b[0m\u001b[1;33m(\u001b[0m\u001b[0mxrav\u001b[0m\u001b[1;33m[\u001b[0m\u001b[0mmask\u001b[0m\u001b[1;33m]\u001b[0m\u001b[1;33m,\u001b[0m \u001b[0myrav\u001b[0m\u001b[1;33m[\u001b[0m\u001b[0mmask\u001b[0m\u001b[1;33m]\u001b[0m\u001b[1;33m)\u001b[0m\u001b[1;33m\u001b[0m\u001b[1;33m\u001b[0m\u001b[0m\n\u001b[0m\u001b[0;32m    117\u001b[0m \u001b[1;33m\u001b[0m\u001b[0m\n\u001b[0;32m    118\u001b[0m     \u001b[1;32melse\u001b[0m\u001b[1;33m:\u001b[0m\u001b[1;33m\u001b[0m\u001b[1;33m\u001b[0m\u001b[0m\n",
      "\u001b[1;31mTypeError\u001b[0m: can't multiply sequence by non-int of type 'str'"
     ]
    }
   ],
   "source": [
    "final['Sales'] = final['Quantity Ordered'] * final['Price Each']"
   ]
  },
  {
   "cell_type": "code",
   "execution_count": 31,
   "id": "38db2f08",
   "metadata": {},
   "outputs": [],
   "source": [
    "# so we have to convert columns into int"
   ]
  },
  {
   "cell_type": "code",
   "execution_count": 32,
   "id": "828fdefa",
   "metadata": {},
   "outputs": [
    {
     "name": "stderr",
     "output_type": "stream",
     "text": [
      "C:\\Users\\hp\\AppData\\Local\\Temp\\ipykernel_3852\\1075518054.py:1: SettingWithCopyWarning: \n",
      "A value is trying to be set on a copy of a slice from a DataFrame.\n",
      "Try using .loc[row_indexer,col_indexer] = value instead\n",
      "\n",
      "See the caveats in the documentation: https://pandas.pydata.org/pandas-docs/stable/user_guide/indexing.html#returning-a-view-versus-a-copy\n",
      "  final['Quantity Ordered'] = final['Quantity Ordered'].astype(int)\n"
     ]
    }
   ],
   "source": [
    "    final['Quantity Ordered'] = final['Quantity Ordered'].astype(int)"
   ]
  },
  {
   "cell_type": "code",
   "execution_count": 33,
   "id": "19c9d47f",
   "metadata": {},
   "outputs": [
    {
     "name": "stderr",
     "output_type": "stream",
     "text": [
      "C:\\Users\\hp\\AppData\\Local\\Temp\\ipykernel_3852\\2787180164.py:1: SettingWithCopyWarning: \n",
      "A value is trying to be set on a copy of a slice from a DataFrame.\n",
      "Try using .loc[row_indexer,col_indexer] = value instead\n",
      "\n",
      "See the caveats in the documentation: https://pandas.pydata.org/pandas-docs/stable/user_guide/indexing.html#returning-a-view-versus-a-copy\n",
      "  final['Price Each'] = final['Price Each'].astype(float)\n"
     ]
    }
   ],
   "source": [
    "  final['Price Each'] = final['Price Each'].astype(float)"
   ]
  },
  {
   "cell_type": "code",
   "execution_count": 34,
   "id": "d8e03a87",
   "metadata": {},
   "outputs": [
    {
     "name": "stderr",
     "output_type": "stream",
     "text": [
      "C:\\Users\\hp\\AppData\\Local\\Temp\\ipykernel_3852\\168881840.py:1: SettingWithCopyWarning: \n",
      "A value is trying to be set on a copy of a slice from a DataFrame.\n",
      "Try using .loc[row_indexer,col_indexer] = value instead\n",
      "\n",
      "See the caveats in the documentation: https://pandas.pydata.org/pandas-docs/stable/user_guide/indexing.html#returning-a-view-versus-a-copy\n",
      "  final['Sales'] = final['Quantity Ordered']*final['Price Each']\n"
     ]
    }
   ],
   "source": [
    "final['Sales'] = final['Quantity Ordered']*final['Price Each']"
   ]
  },
  {
   "cell_type": "code",
   "execution_count": 35,
   "id": "094b30c2",
   "metadata": {},
   "outputs": [
    {
     "data": {
      "text/html": [
       "<div>\n",
       "<style scoped>\n",
       "    .dataframe tbody tr th:only-of-type {\n",
       "        vertical-align: middle;\n",
       "    }\n",
       "\n",
       "    .dataframe tbody tr th {\n",
       "        vertical-align: top;\n",
       "    }\n",
       "\n",
       "    .dataframe thead th {\n",
       "        text-align: right;\n",
       "    }\n",
       "</style>\n",
       "<table border=\"1\" class=\"dataframe\">\n",
       "  <thead>\n",
       "    <tr style=\"text-align: right;\">\n",
       "      <th></th>\n",
       "      <th>Order ID</th>\n",
       "      <th>Product</th>\n",
       "      <th>Quantity Ordered</th>\n",
       "      <th>Price Each</th>\n",
       "      <th>Order Date</th>\n",
       "      <th>Purchase Address</th>\n",
       "      <th>Month</th>\n",
       "      <th>Sales</th>\n",
       "    </tr>\n",
       "  </thead>\n",
       "  <tbody>\n",
       "    <tr>\n",
       "      <th>0</th>\n",
       "      <td>248151</td>\n",
       "      <td>AA Batteries (4-pack)</td>\n",
       "      <td>4</td>\n",
       "      <td>3.84</td>\n",
       "      <td>09/17/19 14:44</td>\n",
       "      <td>380 North St, Los Angeles, CA 90001</td>\n",
       "      <td>9</td>\n",
       "      <td>15.36</td>\n",
       "    </tr>\n",
       "    <tr>\n",
       "      <th>1</th>\n",
       "      <td>248152</td>\n",
       "      <td>USB-C Charging Cable</td>\n",
       "      <td>2</td>\n",
       "      <td>11.95</td>\n",
       "      <td>09/29/19 10:19</td>\n",
       "      <td>511 8th St, Austin, TX 73301</td>\n",
       "      <td>9</td>\n",
       "      <td>23.90</td>\n",
       "    </tr>\n",
       "    <tr>\n",
       "      <th>2</th>\n",
       "      <td>248153</td>\n",
       "      <td>USB-C Charging Cable</td>\n",
       "      <td>1</td>\n",
       "      <td>11.95</td>\n",
       "      <td>09/16/19 17:48</td>\n",
       "      <td>151 Johnson St, Los Angeles, CA 90001</td>\n",
       "      <td>9</td>\n",
       "      <td>11.95</td>\n",
       "    </tr>\n",
       "    <tr>\n",
       "      <th>3</th>\n",
       "      <td>248154</td>\n",
       "      <td>27in FHD Monitor</td>\n",
       "      <td>1</td>\n",
       "      <td>149.99</td>\n",
       "      <td>09/27/19 07:52</td>\n",
       "      <td>355 Hickory St, Seattle, WA 98101</td>\n",
       "      <td>9</td>\n",
       "      <td>149.99</td>\n",
       "    </tr>\n",
       "    <tr>\n",
       "      <th>4</th>\n",
       "      <td>248155</td>\n",
       "      <td>USB-C Charging Cable</td>\n",
       "      <td>1</td>\n",
       "      <td>11.95</td>\n",
       "      <td>09/01/19 19:03</td>\n",
       "      <td>125 5th St, Atlanta, GA 30301</td>\n",
       "      <td>9</td>\n",
       "      <td>11.95</td>\n",
       "    </tr>\n",
       "    <tr>\n",
       "      <th>...</th>\n",
       "      <td>...</td>\n",
       "      <td>...</td>\n",
       "      <td>...</td>\n",
       "      <td>...</td>\n",
       "      <td>...</td>\n",
       "      <td>...</td>\n",
       "      <td>...</td>\n",
       "      <td>...</td>\n",
       "    </tr>\n",
       "    <tr>\n",
       "      <th>1307945</th>\n",
       "      <td>259353</td>\n",
       "      <td>AAA Batteries (4-pack)</td>\n",
       "      <td>3</td>\n",
       "      <td>2.99</td>\n",
       "      <td>09/17/19 20:56</td>\n",
       "      <td>840 Highland St, Los Angeles, CA 90001</td>\n",
       "      <td>9</td>\n",
       "      <td>8.97</td>\n",
       "    </tr>\n",
       "    <tr>\n",
       "      <th>1307946</th>\n",
       "      <td>259354</td>\n",
       "      <td>iPhone</td>\n",
       "      <td>1</td>\n",
       "      <td>700.00</td>\n",
       "      <td>09/01/19 16:00</td>\n",
       "      <td>216 Dogwood St, San Francisco, CA 94016</td>\n",
       "      <td>9</td>\n",
       "      <td>700.00</td>\n",
       "    </tr>\n",
       "    <tr>\n",
       "      <th>1307947</th>\n",
       "      <td>259355</td>\n",
       "      <td>iPhone</td>\n",
       "      <td>1</td>\n",
       "      <td>700.00</td>\n",
       "      <td>09/23/19 07:39</td>\n",
       "      <td>220 12th St, San Francisco, CA 94016</td>\n",
       "      <td>9</td>\n",
       "      <td>700.00</td>\n",
       "    </tr>\n",
       "    <tr>\n",
       "      <th>1307948</th>\n",
       "      <td>259356</td>\n",
       "      <td>34in Ultrawide Monitor</td>\n",
       "      <td>1</td>\n",
       "      <td>379.99</td>\n",
       "      <td>09/19/19 17:30</td>\n",
       "      <td>511 Forest St, San Francisco, CA 94016</td>\n",
       "      <td>9</td>\n",
       "      <td>379.99</td>\n",
       "    </tr>\n",
       "    <tr>\n",
       "      <th>1307949</th>\n",
       "      <td>259357</td>\n",
       "      <td>USB-C Charging Cable</td>\n",
       "      <td>1</td>\n",
       "      <td>11.95</td>\n",
       "      <td>09/30/19 00:18</td>\n",
       "      <td>250 Meadow St, San Francisco, CA 94016</td>\n",
       "      <td>9</td>\n",
       "      <td>11.95</td>\n",
       "    </tr>\n",
       "  </tbody>\n",
       "</table>\n",
       "<p>1487600 rows × 8 columns</p>\n",
       "</div>"
      ],
      "text/plain": [
       "        Order ID                 Product  Quantity Ordered  Price Each  \\\n",
       "0         248151   AA Batteries (4-pack)                 4        3.84   \n",
       "1         248152    USB-C Charging Cable                 2       11.95   \n",
       "2         248153    USB-C Charging Cable                 1       11.95   \n",
       "3         248154        27in FHD Monitor                 1      149.99   \n",
       "4         248155    USB-C Charging Cable                 1       11.95   \n",
       "...          ...                     ...               ...         ...   \n",
       "1307945   259353  AAA Batteries (4-pack)                 3        2.99   \n",
       "1307946   259354                  iPhone                 1      700.00   \n",
       "1307947   259355                  iPhone                 1      700.00   \n",
       "1307948   259356  34in Ultrawide Monitor                 1      379.99   \n",
       "1307949   259357    USB-C Charging Cable                 1       11.95   \n",
       "\n",
       "             Order Date                         Purchase Address  Month  \\\n",
       "0        09/17/19 14:44      380 North St, Los Angeles, CA 90001      9   \n",
       "1        09/29/19 10:19             511 8th St, Austin, TX 73301      9   \n",
       "2        09/16/19 17:48    151 Johnson St, Los Angeles, CA 90001      9   \n",
       "3        09/27/19 07:52        355 Hickory St, Seattle, WA 98101      9   \n",
       "4        09/01/19 19:03            125 5th St, Atlanta, GA 30301      9   \n",
       "...                 ...                                      ...    ...   \n",
       "1307945  09/17/19 20:56   840 Highland St, Los Angeles, CA 90001      9   \n",
       "1307946  09/01/19 16:00  216 Dogwood St, San Francisco, CA 94016      9   \n",
       "1307947  09/23/19 07:39     220 12th St, San Francisco, CA 94016      9   \n",
       "1307948  09/19/19 17:30   511 Forest St, San Francisco, CA 94016      9   \n",
       "1307949  09/30/19 00:18   250 Meadow St, San Francisco, CA 94016      9   \n",
       "\n",
       "          Sales  \n",
       "0         15.36  \n",
       "1         23.90  \n",
       "2         11.95  \n",
       "3        149.99  \n",
       "4         11.95  \n",
       "...         ...  \n",
       "1307945    8.97  \n",
       "1307946  700.00  \n",
       "1307947  700.00  \n",
       "1307948  379.99  \n",
       "1307949   11.95  \n",
       "\n",
       "[1487600 rows x 8 columns]"
      ]
     },
     "execution_count": 35,
     "metadata": {},
     "output_type": "execute_result"
    }
   ],
   "source": [
    "final"
   ]
  },
  {
   "cell_type": "code",
   "execution_count": 36,
   "id": "c6db4022",
   "metadata": {},
   "outputs": [],
   "source": [
    "max_sale = final.groupby('Month')['Sales'].sum().sort_values(ascending=False)"
   ]
  },
  {
   "cell_type": "code",
   "execution_count": 37,
   "id": "196038a2",
   "metadata": {},
   "outputs": [
    {
     "data": {
      "text/plain": [
       "Month\n",
       "12    36907546.72\n",
       "10    29893815.04\n",
       "4     27125361.92\n",
       "11    25596825.60\n",
       "5     25220854.00\n",
       "3     22456803.04\n",
       "7     21182206.08\n",
       "6     20622418.08\n",
       "8     17955743.04\n",
       "2     17616179.36\n",
       "9     16780481.04\n",
       "1     14578053.84\n",
       "Name: Sales, dtype: float64"
      ]
     },
     "execution_count": 37,
     "metadata": {},
     "output_type": "execute_result"
    }
   ],
   "source": [
    "max_sale"
   ]
  },
  {
   "cell_type": "code",
   "execution_count": 38,
   "id": "8f6bdcc1",
   "metadata": {},
   "outputs": [
    {
     "data": {
      "image/png": "[encoded data removed]",
      "text/plain": [
       "<Figure size 640x480 with 1 Axes>"
      ]
     },
     "metadata": {},
     "output_type": "display_data"
    }
   ],
   "source": [
    "months=range(1,13)\n",
    "plt.bar(months,final.groupby('Month')['Sales'].sum())\n",
    "plt.xticks(months)\n",
    "plt.ylabel('Sales in USD ($)')\n",
    "plt.xlabel('Month number')\n",
    "plt.show()\n",
    "\n"
   ]
  },
  {
   "cell_type": "code",
   "execution_count": 39,
   "id": "e7ceb14f",
   "metadata": {
    "scrolled": true
   },
   "outputs": [
    {
     "data": {
      "text/html": [
       "<div>\n",
       "<style scoped>\n",
       "    .dataframe tbody tr th:only-of-type {\n",
       "        vertical-align: middle;\n",
       "    }\n",
       "\n",
       "    .dataframe tbody tr th {\n",
       "        vertical-align: top;\n",
       "    }\n",
       "\n",
       "    .dataframe thead th {\n",
       "        text-align: right;\n",
       "    }\n",
       "</style>\n",
       "<table border=\"1\" class=\"dataframe\">\n",
       "  <thead>\n",
       "    <tr style=\"text-align: right;\">\n",
       "      <th></th>\n",
       "      <th>Order ID</th>\n",
       "      <th>Product</th>\n",
       "      <th>Quantity Ordered</th>\n",
       "      <th>Price Each</th>\n",
       "      <th>Order Date</th>\n",
       "      <th>Purchase Address</th>\n",
       "      <th>Month</th>\n",
       "      <th>Sales</th>\n",
       "    </tr>\n",
       "  </thead>\n",
       "  <tbody>\n",
       "    <tr>\n",
       "      <th>0</th>\n",
       "      <td>248151</td>\n",
       "      <td>AA Batteries (4-pack)</td>\n",
       "      <td>4</td>\n",
       "      <td>3.84</td>\n",
       "      <td>09/17/19 14:44</td>\n",
       "      <td>380 North St, Los Angeles, CA 90001</td>\n",
       "      <td>9</td>\n",
       "      <td>15.36</td>\n",
       "    </tr>\n",
       "    <tr>\n",
       "      <th>1</th>\n",
       "      <td>248152</td>\n",
       "      <td>USB-C Charging Cable</td>\n",
       "      <td>2</td>\n",
       "      <td>11.95</td>\n",
       "      <td>09/29/19 10:19</td>\n",
       "      <td>511 8th St, Austin, TX 73301</td>\n",
       "      <td>9</td>\n",
       "      <td>23.90</td>\n",
       "    </tr>\n",
       "    <tr>\n",
       "      <th>2</th>\n",
       "      <td>248153</td>\n",
       "      <td>USB-C Charging Cable</td>\n",
       "      <td>1</td>\n",
       "      <td>11.95</td>\n",
       "      <td>09/16/19 17:48</td>\n",
       "      <td>151 Johnson St, Los Angeles, CA 90001</td>\n",
       "      <td>9</td>\n",
       "      <td>11.95</td>\n",
       "    </tr>\n",
       "    <tr>\n",
       "      <th>3</th>\n",
       "      <td>248154</td>\n",
       "      <td>27in FHD Monitor</td>\n",
       "      <td>1</td>\n",
       "      <td>149.99</td>\n",
       "      <td>09/27/19 07:52</td>\n",
       "      <td>355 Hickory St, Seattle, WA 98101</td>\n",
       "      <td>9</td>\n",
       "      <td>149.99</td>\n",
       "    </tr>\n",
       "    <tr>\n",
       "      <th>4</th>\n",
       "      <td>248155</td>\n",
       "      <td>USB-C Charging Cable</td>\n",
       "      <td>1</td>\n",
       "      <td>11.95</td>\n",
       "      <td>09/01/19 19:03</td>\n",
       "      <td>125 5th St, Atlanta, GA 30301</td>\n",
       "      <td>9</td>\n",
       "      <td>11.95</td>\n",
       "    </tr>\n",
       "    <tr>\n",
       "      <th>...</th>\n",
       "      <td>...</td>\n",
       "      <td>...</td>\n",
       "      <td>...</td>\n",
       "      <td>...</td>\n",
       "      <td>...</td>\n",
       "      <td>...</td>\n",
       "      <td>...</td>\n",
       "      <td>...</td>\n",
       "    </tr>\n",
       "    <tr>\n",
       "      <th>1307945</th>\n",
       "      <td>259353</td>\n",
       "      <td>AAA Batteries (4-pack)</td>\n",
       "      <td>3</td>\n",
       "      <td>2.99</td>\n",
       "      <td>09/17/19 20:56</td>\n",
       "      <td>840 Highland St, Los Angeles, CA 90001</td>\n",
       "      <td>9</td>\n",
       "      <td>8.97</td>\n",
       "    </tr>\n",
       "    <tr>\n",
       "      <th>1307946</th>\n",
       "      <td>259354</td>\n",
       "      <td>iPhone</td>\n",
       "      <td>1</td>\n",
       "      <td>700.00</td>\n",
       "      <td>09/01/19 16:00</td>\n",
       "      <td>216 Dogwood St, San Francisco, CA 94016</td>\n",
       "      <td>9</td>\n",
       "      <td>700.00</td>\n",
       "    </tr>\n",
       "    <tr>\n",
       "      <th>1307947</th>\n",
       "      <td>259355</td>\n",
       "      <td>iPhone</td>\n",
       "      <td>1</td>\n",
       "      <td>700.00</td>\n",
       "      <td>09/23/19 07:39</td>\n",
       "      <td>220 12th St, San Francisco, CA 94016</td>\n",
       "      <td>9</td>\n",
       "      <td>700.00</td>\n",
       "    </tr>\n",
       "    <tr>\n",
       "      <th>1307948</th>\n",
       "      <td>259356</td>\n",
       "      <td>34in Ultrawide Monitor</td>\n",
       "      <td>1</td>\n",
       "      <td>379.99</td>\n",
       "      <td>09/19/19 17:30</td>\n",
       "      <td>511 Forest St, San Francisco, CA 94016</td>\n",
       "      <td>9</td>\n",
       "      <td>379.99</td>\n",
       "    </tr>\n",
       "    <tr>\n",
       "      <th>1307949</th>\n",
       "      <td>259357</td>\n",
       "      <td>USB-C Charging Cable</td>\n",
       "      <td>1</td>\n",
       "      <td>11.95</td>\n",
       "      <td>09/30/19 00:18</td>\n",
       "      <td>250 Meadow St, San Francisco, CA 94016</td>\n",
       "      <td>9</td>\n",
       "      <td>11.95</td>\n",
       "    </tr>\n",
       "  </tbody>\n",
       "</table>\n",
       "<p>1487600 rows × 8 columns</p>\n",
       "</div>"
      ],
      "text/plain": [
       "        Order ID                 Product  Quantity Ordered  Price Each  \\\n",
       "0         248151   AA Batteries (4-pack)                 4        3.84   \n",
       "1         248152    USB-C Charging Cable                 2       11.95   \n",
       "2         248153    USB-C Charging Cable                 1       11.95   \n",
       "3         248154        27in FHD Monitor                 1      149.99   \n",
       "4         248155    USB-C Charging Cable                 1       11.95   \n",
       "...          ...                     ...               ...         ...   \n",
       "1307945   259353  AAA Batteries (4-pack)                 3        2.99   \n",
       "1307946   259354                  iPhone                 1      700.00   \n",
       "1307947   259355                  iPhone                 1      700.00   \n",
       "1307948   259356  34in Ultrawide Monitor                 1      379.99   \n",
       "1307949   259357    USB-C Charging Cable                 1       11.95   \n",
       "\n",
       "             Order Date                         Purchase Address  Month  \\\n",
       "0        09/17/19 14:44      380 North St, Los Angeles, CA 90001      9   \n",
       "1        09/29/19 10:19             511 8th St, Austin, TX 73301      9   \n",
       "2        09/16/19 17:48    151 Johnson St, Los Angeles, CA 90001      9   \n",
       "3        09/27/19 07:52        355 Hickory St, Seattle, WA 98101      9   \n",
       "4        09/01/19 19:03            125 5th St, Atlanta, GA 30301      9   \n",
       "...                 ...                                      ...    ...   \n",
       "1307945  09/17/19 20:56   840 Highland St, Los Angeles, CA 90001      9   \n",
       "1307946  09/01/19 16:00  216 Dogwood St, San Francisco, CA 94016      9   \n",
       "1307947  09/23/19 07:39     220 12th St, San Francisco, CA 94016      9   \n",
       "1307948  09/19/19 17:30   511 Forest St, San Francisco, CA 94016      9   \n",
       "1307949  09/30/19 00:18   250 Meadow St, San Francisco, CA 94016      9   \n",
       "\n",
       "          Sales  \n",
       "0         15.36  \n",
       "1         23.90  \n",
       "2         11.95  \n",
       "3        149.99  \n",
       "4         11.95  \n",
       "...         ...  \n",
       "1307945    8.97  \n",
       "1307946  700.00  \n",
       "1307947  700.00  \n",
       "1307948  379.99  \n",
       "1307949   11.95  \n",
       "\n",
       "[1487600 rows x 8 columns]"
      ]
     },
     "execution_count": 39,
     "metadata": {},
     "output_type": "execute_result"
    }
   ],
   "source": [
    "final"
   ]
  },
  {
   "cell_type": "markdown",
   "id": "2ff8234c",
   "metadata": {},
   "source": [
    "# Which city has max order"
   ]
  },
  {
   "cell_type": "code",
   "execution_count": 40,
   "id": "25e39ee2",
   "metadata": {},
   "outputs": [
    {
     "data": {
      "text/plain": [
       "['380 North St', ' Los Angeles', ' CA 90001']"
      ]
     },
     "execution_count": 40,
     "metadata": {},
     "output_type": "execute_result"
    }
   ],
   "source": [
    "\"380 North St, Los Angeles, CA 90001\".split(\",\")"
   ]
  },
  {
   "cell_type": "code",
   "execution_count": 41,
   "id": "1a759a3a",
   "metadata": {},
   "outputs": [
    {
     "data": {
      "text/plain": [
       "' Los Angeles'"
      ]
     },
     "execution_count": 41,
     "metadata": {},
     "output_type": "execute_result"
    }
   ],
   "source": [
    "\"380 North St, Los Angeles, CA 90001\".split(\",\")[-2]"
   ]
  },
  {
   "cell_type": "code",
   "execution_count": 42,
   "id": "b3bf352b",
   "metadata": {},
   "outputs": [],
   "source": [
    "def city(s):\n",
    "    return s.split(\",\")[-2]"
   ]
  },
  {
   "cell_type": "code",
   "execution_count": 43,
   "id": "83fd9eef",
   "metadata": {},
   "outputs": [
    {
     "name": "stderr",
     "output_type": "stream",
     "text": [
      "C:\\Users\\hp\\AppData\\Local\\Temp\\ipykernel_3852\\2676793674.py:1: SettingWithCopyWarning: \n",
      "A value is trying to be set on a copy of a slice from a DataFrame.\n",
      "Try using .loc[row_indexer,col_indexer] = value instead\n",
      "\n",
      "See the caveats in the documentation: https://pandas.pydata.org/pandas-docs/stable/user_guide/indexing.html#returning-a-view-versus-a-copy\n",
      "  final['City'] = final['Purchase Address'].apply(city)\n"
     ]
    }
   ],
   "source": [
    "final['City'] = final['Purchase Address'].apply(city)"
   ]
  },
  {
   "cell_type": "code",
   "execution_count": 44,
   "id": "1829afb5",
   "metadata": {},
   "outputs": [
    {
     "data": {
      "text/html": [
       "<div>\n",
       "<style scoped>\n",
       "    .dataframe tbody tr th:only-of-type {\n",
       "        vertical-align: middle;\n",
       "    }\n",
       "\n",
       "    .dataframe tbody tr th {\n",
       "        vertical-align: top;\n",
       "    }\n",
       "\n",
       "    .dataframe thead th {\n",
       "        text-align: right;\n",
       "    }\n",
       "</style>\n",
       "<table border=\"1\" class=\"dataframe\">\n",
       "  <thead>\n",
       "    <tr style=\"text-align: right;\">\n",
       "      <th></th>\n",
       "      <th>Order ID</th>\n",
       "      <th>Product</th>\n",
       "      <th>Quantity Ordered</th>\n",
       "      <th>Price Each</th>\n",
       "      <th>Order Date</th>\n",
       "      <th>Purchase Address</th>\n",
       "      <th>Month</th>\n",
       "      <th>Sales</th>\n",
       "      <th>City</th>\n",
       "    </tr>\n",
       "  </thead>\n",
       "  <tbody>\n",
       "    <tr>\n",
       "      <th>0</th>\n",
       "      <td>248151</td>\n",
       "      <td>AA Batteries (4-pack)</td>\n",
       "      <td>4</td>\n",
       "      <td>3.84</td>\n",
       "      <td>09/17/19 14:44</td>\n",
       "      <td>380 North St, Los Angeles, CA 90001</td>\n",
       "      <td>9</td>\n",
       "      <td>15.36</td>\n",
       "      <td>Los Angeles</td>\n",
       "    </tr>\n",
       "    <tr>\n",
       "      <th>1</th>\n",
       "      <td>248152</td>\n",
       "      <td>USB-C Charging Cable</td>\n",
       "      <td>2</td>\n",
       "      <td>11.95</td>\n",
       "      <td>09/29/19 10:19</td>\n",
       "      <td>511 8th St, Austin, TX 73301</td>\n",
       "      <td>9</td>\n",
       "      <td>23.90</td>\n",
       "      <td>Austin</td>\n",
       "    </tr>\n",
       "    <tr>\n",
       "      <th>2</th>\n",
       "      <td>248153</td>\n",
       "      <td>USB-C Charging Cable</td>\n",
       "      <td>1</td>\n",
       "      <td>11.95</td>\n",
       "      <td>09/16/19 17:48</td>\n",
       "      <td>151 Johnson St, Los Angeles, CA 90001</td>\n",
       "      <td>9</td>\n",
       "      <td>11.95</td>\n",
       "      <td>Los Angeles</td>\n",
       "    </tr>\n",
       "    <tr>\n",
       "      <th>3</th>\n",
       "      <td>248154</td>\n",
       "      <td>27in FHD Monitor</td>\n",
       "      <td>1</td>\n",
       "      <td>149.99</td>\n",
       "      <td>09/27/19 07:52</td>\n",
       "      <td>355 Hickory St, Seattle, WA 98101</td>\n",
       "      <td>9</td>\n",
       "      <td>149.99</td>\n",
       "      <td>Seattle</td>\n",
       "    </tr>\n",
       "    <tr>\n",
       "      <th>4</th>\n",
       "      <td>248155</td>\n",
       "      <td>USB-C Charging Cable</td>\n",
       "      <td>1</td>\n",
       "      <td>11.95</td>\n",
       "      <td>09/01/19 19:03</td>\n",
       "      <td>125 5th St, Atlanta, GA 30301</td>\n",
       "      <td>9</td>\n",
       "      <td>11.95</td>\n",
       "      <td>Atlanta</td>\n",
       "    </tr>\n",
       "    <tr>\n",
       "      <th>...</th>\n",
       "      <td>...</td>\n",
       "      <td>...</td>\n",
       "      <td>...</td>\n",
       "      <td>...</td>\n",
       "      <td>...</td>\n",
       "      <td>...</td>\n",
       "      <td>...</td>\n",
       "      <td>...</td>\n",
       "      <td>...</td>\n",
       "    </tr>\n",
       "    <tr>\n",
       "      <th>1307945</th>\n",
       "      <td>259353</td>\n",
       "      <td>AAA Batteries (4-pack)</td>\n",
       "      <td>3</td>\n",
       "      <td>2.99</td>\n",
       "      <td>09/17/19 20:56</td>\n",
       "      <td>840 Highland St, Los Angeles, CA 90001</td>\n",
       "      <td>9</td>\n",
       "      <td>8.97</td>\n",
       "      <td>Los Angeles</td>\n",
       "    </tr>\n",
       "    <tr>\n",
       "      <th>1307946</th>\n",
       "      <td>259354</td>\n",
       "      <td>iPhone</td>\n",
       "      <td>1</td>\n",
       "      <td>700.00</td>\n",
       "      <td>09/01/19 16:00</td>\n",
       "      <td>216 Dogwood St, San Francisco, CA 94016</td>\n",
       "      <td>9</td>\n",
       "      <td>700.00</td>\n",
       "      <td>San Francisco</td>\n",
       "    </tr>\n",
       "    <tr>\n",
       "      <th>1307947</th>\n",
       "      <td>259355</td>\n",
       "      <td>iPhone</td>\n",
       "      <td>1</td>\n",
       "      <td>700.00</td>\n",
       "      <td>09/23/19 07:39</td>\n",
       "      <td>220 12th St, San Francisco, CA 94016</td>\n",
       "      <td>9</td>\n",
       "      <td>700.00</td>\n",
       "      <td>San Francisco</td>\n",
       "    </tr>\n",
       "    <tr>\n",
       "      <th>1307948</th>\n",
       "      <td>259356</td>\n",
       "      <td>34in Ultrawide Monitor</td>\n",
       "      <td>1</td>\n",
       "      <td>379.99</td>\n",
       "      <td>09/19/19 17:30</td>\n",
       "      <td>511 Forest St, San Francisco, CA 94016</td>\n",
       "      <td>9</td>\n",
       "      <td>379.99</td>\n",
       "      <td>San Francisco</td>\n",
       "    </tr>\n",
       "    <tr>\n",
       "      <th>1307949</th>\n",
       "      <td>259357</td>\n",
       "      <td>USB-C Charging Cable</td>\n",
       "      <td>1</td>\n",
       "      <td>11.95</td>\n",
       "      <td>09/30/19 00:18</td>\n",
       "      <td>250 Meadow St, San Francisco, CA 94016</td>\n",
       "      <td>9</td>\n",
       "      <td>11.95</td>\n",
       "      <td>San Francisco</td>\n",
       "    </tr>\n",
       "  </tbody>\n",
       "</table>\n",
       "<p>1487600 rows × 9 columns</p>\n",
       "</div>"
      ],
      "text/plain": [
       "        Order ID                 Product  Quantity Ordered  Price Each  \\\n",
       "0         248151   AA Batteries (4-pack)                 4        3.84   \n",
       "1         248152    USB-C Charging Cable                 2       11.95   \n",
       "2         248153    USB-C Charging Cable                 1       11.95   \n",
       "3         248154        27in FHD Monitor                 1      149.99   \n",
       "4         248155    USB-C Charging Cable                 1       11.95   \n",
       "...          ...                     ...               ...         ...   \n",
       "1307945   259353  AAA Batteries (4-pack)                 3        2.99   \n",
       "1307946   259354                  iPhone                 1      700.00   \n",
       "1307947   259355                  iPhone                 1      700.00   \n",
       "1307948   259356  34in Ultrawide Monitor                 1      379.99   \n",
       "1307949   259357    USB-C Charging Cable                 1       11.95   \n",
       "\n",
       "             Order Date                         Purchase Address  Month  \\\n",
       "0        09/17/19 14:44      380 North St, Los Angeles, CA 90001      9   \n",
       "1        09/29/19 10:19             511 8th St, Austin, TX 73301      9   \n",
       "2        09/16/19 17:48    151 Johnson St, Los Angeles, CA 90001      9   \n",
       "3        09/27/19 07:52        355 Hickory St, Seattle, WA 98101      9   \n",
       "4        09/01/19 19:03            125 5th St, Atlanta, GA 30301      9   \n",
       "...                 ...                                      ...    ...   \n",
       "1307945  09/17/19 20:56   840 Highland St, Los Angeles, CA 90001      9   \n",
       "1307946  09/01/19 16:00  216 Dogwood St, San Francisco, CA 94016      9   \n",
       "1307947  09/23/19 07:39     220 12th St, San Francisco, CA 94016      9   \n",
       "1307948  09/19/19 17:30   511 Forest St, San Francisco, CA 94016      9   \n",
       "1307949  09/30/19 00:18   250 Meadow St, San Francisco, CA 94016      9   \n",
       "\n",
       "          Sales            City  \n",
       "0         15.36     Los Angeles  \n",
       "1         23.90          Austin  \n",
       "2         11.95     Los Angeles  \n",
       "3        149.99         Seattle  \n",
       "4         11.95         Atlanta  \n",
       "...         ...             ...  \n",
       "1307945    8.97     Los Angeles  \n",
       "1307946  700.00   San Francisco  \n",
       "1307947  700.00   San Francisco  \n",
       "1307948  379.99   San Francisco  \n",
       "1307949   11.95   San Francisco  \n",
       "\n",
       "[1487600 rows x 9 columns]"
      ]
     },
     "execution_count": 44,
     "metadata": {},
     "output_type": "execute_result"
    }
   ],
   "source": [
    "final"
   ]
  },
  {
   "cell_type": "code",
   "execution_count": 45,
   "id": "1710e17d",
   "metadata": {},
   "outputs": [
    {
     "data": {
      "text/plain": [
       "array([' Los Angeles', ' Austin', ' Seattle', ' Atlanta', ' Portland',\n",
       "       ' New York City', ' San Francisco', ' Boston', ' Dallas'],\n",
       "      dtype=object)"
      ]
     },
     "execution_count": 45,
     "metadata": {},
     "output_type": "execute_result"
    }
   ],
   "source": [
    "final['City'].unique()"
   ]
  },
  {
   "cell_type": "code",
   "execution_count": 46,
   "id": "084506a0",
   "metadata": {},
   "outputs": [],
   "source": [
    "order = final.groupby('City')['City'].count()"
   ]
  },
  {
   "cell_type": "code",
   "execution_count": 47,
   "id": "2e313184",
   "metadata": {
    "scrolled": true
   },
   "outputs": [
    {
     "data": {
      "text/plain": [
       "City\n",
       " Atlanta          119048\n",
       " Austin            79240\n",
       " Boston           159472\n",
       " Dallas           118560\n",
       " Los Angeles      236840\n",
       " New York City    199008\n",
       " Portland          99720\n",
       " San Francisco    357856\n",
       " Seattle          117856\n",
       "Name: City, dtype: int64"
      ]
     },
     "execution_count": 47,
     "metadata": {},
     "output_type": "execute_result"
    }
   ],
   "source": [
    "order"
   ]
  },
  {
   "cell_type": "code",
   "execution_count": 48,
   "id": "7e85b3c4",
   "metadata": {},
   "outputs": [
    {
     "data": {
      "image/png": "[encoded data removed]",
      "text/plain": [
       "<Figure size 640x480 with 1 Axes>"
      ]
     },
     "metadata": {},
     "output_type": "display_data"
    }
   ],
   "source": [
    "plt.bar(final.groupby('City')['City'].count().index,final.groupby('City')['City'].count())\n",
    "plt.xticks(rotation='vertical')\n",
    "plt.ylabel('received orders')\n",
    "plt.xlabel('city names')\n",
    "plt.show()"
   ]
  },
  {
   "cell_type": "markdown",
   "id": "61124333",
   "metadata": {},
   "source": [
    "In this code, groupby('City') groups the DataFrame final by the 'City' column, creating groups based on the unique city names. Then, ['City'] selects the 'City' column from the grouped data. Finally, .count() counts the number of occurrences of each city in the grouped data, resulting in a Series with the city names as the index and the count of orders for each city as the values.\n",
    "\n",
    "By using this code, you can determine which city has the maximum number of orders by finding the city with the highest count in the resulting Series. Here's an example of how you can find the city with the maximum order count:"
   ]
  },
  {
   "cell_type": "code",
   "execution_count": null,
   "id": "5a1cf305",
   "metadata": {},
   "outputs": [],
   "source": []
  },
  {
   "cell_type": "code",
   "execution_count": null,
   "id": "a5678c14",
   "metadata": {},
   "outputs": [],
   "source": []
  },
  {
   "cell_type": "markdown",
   "id": "e631fc7a",
   "metadata": {},
   "source": [
    "# at what times sales of PRoduct purchase is max"
   ]
  },
  {
   "cell_type": "code",
   "execution_count": 49,
   "id": "0b643fb7",
   "metadata": {},
   "outputs": [
    {
     "data": {
      "text/html": [
       "<div>\n",
       "<style scoped>\n",
       "    .dataframe tbody tr th:only-of-type {\n",
       "        vertical-align: middle;\n",
       "    }\n",
       "\n",
       "    .dataframe tbody tr th {\n",
       "        vertical-align: top;\n",
       "    }\n",
       "\n",
       "    .dataframe thead th {\n",
       "        text-align: right;\n",
       "    }\n",
       "</style>\n",
       "<table border=\"1\" class=\"dataframe\">\n",
       "  <thead>\n",
       "    <tr style=\"text-align: right;\">\n",
       "      <th></th>\n",
       "      <th>Order ID</th>\n",
       "      <th>Product</th>\n",
       "      <th>Quantity Ordered</th>\n",
       "      <th>Price Each</th>\n",
       "      <th>Order Date</th>\n",
       "      <th>Purchase Address</th>\n",
       "      <th>Month</th>\n",
       "      <th>Sales</th>\n",
       "      <th>City</th>\n",
       "    </tr>\n",
       "  </thead>\n",
       "  <tbody>\n",
       "    <tr>\n",
       "      <th>0</th>\n",
       "      <td>248151</td>\n",
       "      <td>AA Batteries (4-pack)</td>\n",
       "      <td>4</td>\n",
       "      <td>3.84</td>\n",
       "      <td>09/17/19 14:44</td>\n",
       "      <td>380 North St, Los Angeles, CA 90001</td>\n",
       "      <td>9</td>\n",
       "      <td>15.36</td>\n",
       "      <td>Los Angeles</td>\n",
       "    </tr>\n",
       "    <tr>\n",
       "      <th>1</th>\n",
       "      <td>248152</td>\n",
       "      <td>USB-C Charging Cable</td>\n",
       "      <td>2</td>\n",
       "      <td>11.95</td>\n",
       "      <td>09/29/19 10:19</td>\n",
       "      <td>511 8th St, Austin, TX 73301</td>\n",
       "      <td>9</td>\n",
       "      <td>23.90</td>\n",
       "      <td>Austin</td>\n",
       "    </tr>\n",
       "    <tr>\n",
       "      <th>2</th>\n",
       "      <td>248153</td>\n",
       "      <td>USB-C Charging Cable</td>\n",
       "      <td>1</td>\n",
       "      <td>11.95</td>\n",
       "      <td>09/16/19 17:48</td>\n",
       "      <td>151 Johnson St, Los Angeles, CA 90001</td>\n",
       "      <td>9</td>\n",
       "      <td>11.95</td>\n",
       "      <td>Los Angeles</td>\n",
       "    </tr>\n",
       "    <tr>\n",
       "      <th>3</th>\n",
       "      <td>248154</td>\n",
       "      <td>27in FHD Monitor</td>\n",
       "      <td>1</td>\n",
       "      <td>149.99</td>\n",
       "      <td>09/27/19 07:52</td>\n",
       "      <td>355 Hickory St, Seattle, WA 98101</td>\n",
       "      <td>9</td>\n",
       "      <td>149.99</td>\n",
       "      <td>Seattle</td>\n",
       "    </tr>\n",
       "    <tr>\n",
       "      <th>4</th>\n",
       "      <td>248155</td>\n",
       "      <td>USB-C Charging Cable</td>\n",
       "      <td>1</td>\n",
       "      <td>11.95</td>\n",
       "      <td>09/01/19 19:03</td>\n",
       "      <td>125 5th St, Atlanta, GA 30301</td>\n",
       "      <td>9</td>\n",
       "      <td>11.95</td>\n",
       "      <td>Atlanta</td>\n",
       "    </tr>\n",
       "    <tr>\n",
       "      <th>...</th>\n",
       "      <td>...</td>\n",
       "      <td>...</td>\n",
       "      <td>...</td>\n",
       "      <td>...</td>\n",
       "      <td>...</td>\n",
       "      <td>...</td>\n",
       "      <td>...</td>\n",
       "      <td>...</td>\n",
       "      <td>...</td>\n",
       "    </tr>\n",
       "    <tr>\n",
       "      <th>1307945</th>\n",
       "      <td>259353</td>\n",
       "      <td>AAA Batteries (4-pack)</td>\n",
       "      <td>3</td>\n",
       "      <td>2.99</td>\n",
       "      <td>09/17/19 20:56</td>\n",
       "      <td>840 Highland St, Los Angeles, CA 90001</td>\n",
       "      <td>9</td>\n",
       "      <td>8.97</td>\n",
       "      <td>Los Angeles</td>\n",
       "    </tr>\n",
       "    <tr>\n",
       "      <th>1307946</th>\n",
       "      <td>259354</td>\n",
       "      <td>iPhone</td>\n",
       "      <td>1</td>\n",
       "      <td>700.00</td>\n",
       "      <td>09/01/19 16:00</td>\n",
       "      <td>216 Dogwood St, San Francisco, CA 94016</td>\n",
       "      <td>9</td>\n",
       "      <td>700.00</td>\n",
       "      <td>San Francisco</td>\n",
       "    </tr>\n",
       "    <tr>\n",
       "      <th>1307947</th>\n",
       "      <td>259355</td>\n",
       "      <td>iPhone</td>\n",
       "      <td>1</td>\n",
       "      <td>700.00</td>\n",
       "      <td>09/23/19 07:39</td>\n",
       "      <td>220 12th St, San Francisco, CA 94016</td>\n",
       "      <td>9</td>\n",
       "      <td>700.00</td>\n",
       "      <td>San Francisco</td>\n",
       "    </tr>\n",
       "    <tr>\n",
       "      <th>1307948</th>\n",
       "      <td>259356</td>\n",
       "      <td>34in Ultrawide Monitor</td>\n",
       "      <td>1</td>\n",
       "      <td>379.99</td>\n",
       "      <td>09/19/19 17:30</td>\n",
       "      <td>511 Forest St, San Francisco, CA 94016</td>\n",
       "      <td>9</td>\n",
       "      <td>379.99</td>\n",
       "      <td>San Francisco</td>\n",
       "    </tr>\n",
       "    <tr>\n",
       "      <th>1307949</th>\n",
       "      <td>259357</td>\n",
       "      <td>USB-C Charging Cable</td>\n",
       "      <td>1</td>\n",
       "      <td>11.95</td>\n",
       "      <td>09/30/19 00:18</td>\n",
       "      <td>250 Meadow St, San Francisco, CA 94016</td>\n",
       "      <td>9</td>\n",
       "      <td>11.95</td>\n",
       "      <td>San Francisco</td>\n",
       "    </tr>\n",
       "  </tbody>\n",
       "</table>\n",
       "<p>1487600 rows × 9 columns</p>\n",
       "</div>"
      ],
      "text/plain": [
       "        Order ID                 Product  Quantity Ordered  Price Each  \\\n",
       "0         248151   AA Batteries (4-pack)                 4        3.84   \n",
       "1         248152    USB-C Charging Cable                 2       11.95   \n",
       "2         248153    USB-C Charging Cable                 1       11.95   \n",
       "3         248154        27in FHD Monitor                 1      149.99   \n",
       "4         248155    USB-C Charging Cable                 1       11.95   \n",
       "...          ...                     ...               ...         ...   \n",
       "1307945   259353  AAA Batteries (4-pack)                 3        2.99   \n",
       "1307946   259354                  iPhone                 1      700.00   \n",
       "1307947   259355                  iPhone                 1      700.00   \n",
       "1307948   259356  34in Ultrawide Monitor                 1      379.99   \n",
       "1307949   259357    USB-C Charging Cable                 1       11.95   \n",
       "\n",
       "             Order Date                         Purchase Address  Month  \\\n",
       "0        09/17/19 14:44      380 North St, Los Angeles, CA 90001      9   \n",
       "1        09/29/19 10:19             511 8th St, Austin, TX 73301      9   \n",
       "2        09/16/19 17:48    151 Johnson St, Los Angeles, CA 90001      9   \n",
       "3        09/27/19 07:52        355 Hickory St, Seattle, WA 98101      9   \n",
       "4        09/01/19 19:03            125 5th St, Atlanta, GA 30301      9   \n",
       "...                 ...                                      ...    ...   \n",
       "1307945  09/17/19 20:56   840 Highland St, Los Angeles, CA 90001      9   \n",
       "1307946  09/01/19 16:00  216 Dogwood St, San Francisco, CA 94016      9   \n",
       "1307947  09/23/19 07:39     220 12th St, San Francisco, CA 94016      9   \n",
       "1307948  09/19/19 17:30   511 Forest St, San Francisco, CA 94016      9   \n",
       "1307949  09/30/19 00:18   250 Meadow St, San Francisco, CA 94016      9   \n",
       "\n",
       "          Sales            City  \n",
       "0         15.36     Los Angeles  \n",
       "1         23.90          Austin  \n",
       "2         11.95     Los Angeles  \n",
       "3        149.99         Seattle  \n",
       "4         11.95         Atlanta  \n",
       "...         ...             ...  \n",
       "1307945    8.97     Los Angeles  \n",
       "1307946  700.00   San Francisco  \n",
       "1307947  700.00   San Francisco  \n",
       "1307948  379.99   San Francisco  \n",
       "1307949   11.95   San Francisco  \n",
       "\n",
       "[1487600 rows x 9 columns]"
      ]
     },
     "execution_count": 49,
     "metadata": {},
     "output_type": "execute_result"
    }
   ],
   "source": [
    "final"
   ]
  },
  {
   "cell_type": "code",
   "execution_count": 50,
   "id": "f778f7ba",
   "metadata": {},
   "outputs": [
    {
     "data": {
      "text/plain": [
       "dtype('O')"
      ]
     },
     "execution_count": 50,
     "metadata": {},
     "output_type": "execute_result"
    }
   ],
   "source": [
    "final['Order Date'].dtype"
   ]
  },
  {
   "cell_type": "code",
   "execution_count": 51,
   "id": "2847b4c6",
   "metadata": {},
   "outputs": [],
   "source": [
    "# as datatype is string so we convert it to datetimestamp"
   ]
  },
  {
   "cell_type": "code",
   "execution_count": 52,
   "id": "0ed271f3",
   "metadata": {},
   "outputs": [
    {
     "name": "stderr",
     "output_type": "stream",
     "text": [
      "C:\\Users\\hp\\AppData\\Local\\Temp\\ipykernel_3852\\4142852706.py:1: SettingWithCopyWarning: \n",
      "A value is trying to be set on a copy of a slice from a DataFrame.\n",
      "Try using .loc[row_indexer,col_indexer] = value instead\n",
      "\n",
      "See the caveats in the documentation: https://pandas.pydata.org/pandas-docs/stable/user_guide/indexing.html#returning-a-view-versus-a-copy\n",
      "  final['Order Date'] = pd.to_datetime(final['Order Date'], format='%m/%d/%y %H:%M')\n"
     ]
    }
   ],
   "source": [
    "final['Order Date'] = pd.to_datetime(final['Order Date'], format='%m/%d/%y %H:%M')"
   ]
  },
  {
   "cell_type": "code",
   "execution_count": 53,
   "id": "cb15076c",
   "metadata": {},
   "outputs": [
    {
     "name": "stderr",
     "output_type": "stream",
     "text": [
      "C:\\Users\\hp\\AppData\\Local\\Temp\\ipykernel_3852\\3023193621.py:1: SettingWithCopyWarning: \n",
      "A value is trying to be set on a copy of a slice from a DataFrame.\n",
      "Try using .loc[row_indexer,col_indexer] = value instead\n",
      "\n",
      "See the caveats in the documentation: https://pandas.pydata.org/pandas-docs/stable/user_guide/indexing.html#returning-a-view-versus-a-copy\n",
      "  final['Hour'] = final['Order Date'].dt.hour\n"
     ]
    }
   ],
   "source": [
    "final['Hour'] = final['Order Date'].dt.hour"
   ]
  },
  {
   "cell_type": "code",
   "execution_count": 54,
   "id": "a53819ad",
   "metadata": {
    "scrolled": true
   },
   "outputs": [
    {
     "data": {
      "text/html": [
       "<div>\n",
       "<style scoped>\n",
       "    .dataframe tbody tr th:only-of-type {\n",
       "        vertical-align: middle;\n",
       "    }\n",
       "\n",
       "    .dataframe tbody tr th {\n",
       "        vertical-align: top;\n",
       "    }\n",
       "\n",
       "    .dataframe thead th {\n",
       "        text-align: right;\n",
       "    }\n",
       "</style>\n",
       "<table border=\"1\" class=\"dataframe\">\n",
       "  <thead>\n",
       "    <tr style=\"text-align: right;\">\n",
       "      <th></th>\n",
       "      <th>Order ID</th>\n",
       "      <th>Product</th>\n",
       "      <th>Quantity Ordered</th>\n",
       "      <th>Price Each</th>\n",
       "      <th>Order Date</th>\n",
       "      <th>Purchase Address</th>\n",
       "      <th>Month</th>\n",
       "      <th>Sales</th>\n",
       "      <th>City</th>\n",
       "      <th>Hour</th>\n",
       "    </tr>\n",
       "  </thead>\n",
       "  <tbody>\n",
       "    <tr>\n",
       "      <th>0</th>\n",
       "      <td>248151</td>\n",
       "      <td>AA Batteries (4-pack)</td>\n",
       "      <td>4</td>\n",
       "      <td>3.84</td>\n",
       "      <td>2019-09-17 14:44:00</td>\n",
       "      <td>380 North St, Los Angeles, CA 90001</td>\n",
       "      <td>9</td>\n",
       "      <td>15.36</td>\n",
       "      <td>Los Angeles</td>\n",
       "      <td>14</td>\n",
       "    </tr>\n",
       "    <tr>\n",
       "      <th>1</th>\n",
       "      <td>248152</td>\n",
       "      <td>USB-C Charging Cable</td>\n",
       "      <td>2</td>\n",
       "      <td>11.95</td>\n",
       "      <td>2019-09-29 10:19:00</td>\n",
       "      <td>511 8th St, Austin, TX 73301</td>\n",
       "      <td>9</td>\n",
       "      <td>23.90</td>\n",
       "      <td>Austin</td>\n",
       "      <td>10</td>\n",
       "    </tr>\n",
       "    <tr>\n",
       "      <th>2</th>\n",
       "      <td>248153</td>\n",
       "      <td>USB-C Charging Cable</td>\n",
       "      <td>1</td>\n",
       "      <td>11.95</td>\n",
       "      <td>2019-09-16 17:48:00</td>\n",
       "      <td>151 Johnson St, Los Angeles, CA 90001</td>\n",
       "      <td>9</td>\n",
       "      <td>11.95</td>\n",
       "      <td>Los Angeles</td>\n",
       "      <td>17</td>\n",
       "    </tr>\n",
       "    <tr>\n",
       "      <th>3</th>\n",
       "      <td>248154</td>\n",
       "      <td>27in FHD Monitor</td>\n",
       "      <td>1</td>\n",
       "      <td>149.99</td>\n",
       "      <td>2019-09-27 07:52:00</td>\n",
       "      <td>355 Hickory St, Seattle, WA 98101</td>\n",
       "      <td>9</td>\n",
       "      <td>149.99</td>\n",
       "      <td>Seattle</td>\n",
       "      <td>7</td>\n",
       "    </tr>\n",
       "    <tr>\n",
       "      <th>4</th>\n",
       "      <td>248155</td>\n",
       "      <td>USB-C Charging Cable</td>\n",
       "      <td>1</td>\n",
       "      <td>11.95</td>\n",
       "      <td>2019-09-01 19:03:00</td>\n",
       "      <td>125 5th St, Atlanta, GA 30301</td>\n",
       "      <td>9</td>\n",
       "      <td>11.95</td>\n",
       "      <td>Atlanta</td>\n",
       "      <td>19</td>\n",
       "    </tr>\n",
       "    <tr>\n",
       "      <th>...</th>\n",
       "      <td>...</td>\n",
       "      <td>...</td>\n",
       "      <td>...</td>\n",
       "      <td>...</td>\n",
       "      <td>...</td>\n",
       "      <td>...</td>\n",
       "      <td>...</td>\n",
       "      <td>...</td>\n",
       "      <td>...</td>\n",
       "      <td>...</td>\n",
       "    </tr>\n",
       "    <tr>\n",
       "      <th>1307945</th>\n",
       "      <td>259353</td>\n",
       "      <td>AAA Batteries (4-pack)</td>\n",
       "      <td>3</td>\n",
       "      <td>2.99</td>\n",
       "      <td>2019-09-17 20:56:00</td>\n",
       "      <td>840 Highland St, Los Angeles, CA 90001</td>\n",
       "      <td>9</td>\n",
       "      <td>8.97</td>\n",
       "      <td>Los Angeles</td>\n",
       "      <td>20</td>\n",
       "    </tr>\n",
       "    <tr>\n",
       "      <th>1307946</th>\n",
       "      <td>259354</td>\n",
       "      <td>iPhone</td>\n",
       "      <td>1</td>\n",
       "      <td>700.00</td>\n",
       "      <td>2019-09-01 16:00:00</td>\n",
       "      <td>216 Dogwood St, San Francisco, CA 94016</td>\n",
       "      <td>9</td>\n",
       "      <td>700.00</td>\n",
       "      <td>San Francisco</td>\n",
       "      <td>16</td>\n",
       "    </tr>\n",
       "    <tr>\n",
       "      <th>1307947</th>\n",
       "      <td>259355</td>\n",
       "      <td>iPhone</td>\n",
       "      <td>1</td>\n",
       "      <td>700.00</td>\n",
       "      <td>2019-09-23 07:39:00</td>\n",
       "      <td>220 12th St, San Francisco, CA 94016</td>\n",
       "      <td>9</td>\n",
       "      <td>700.00</td>\n",
       "      <td>San Francisco</td>\n",
       "      <td>7</td>\n",
       "    </tr>\n",
       "    <tr>\n",
       "      <th>1307948</th>\n",
       "      <td>259356</td>\n",
       "      <td>34in Ultrawide Monitor</td>\n",
       "      <td>1</td>\n",
       "      <td>379.99</td>\n",
       "      <td>2019-09-19 17:30:00</td>\n",
       "      <td>511 Forest St, San Francisco, CA 94016</td>\n",
       "      <td>9</td>\n",
       "      <td>379.99</td>\n",
       "      <td>San Francisco</td>\n",
       "      <td>17</td>\n",
       "    </tr>\n",
       "    <tr>\n",
       "      <th>1307949</th>\n",
       "      <td>259357</td>\n",
       "      <td>USB-C Charging Cable</td>\n",
       "      <td>1</td>\n",
       "      <td>11.95</td>\n",
       "      <td>2019-09-30 00:18:00</td>\n",
       "      <td>250 Meadow St, San Francisco, CA 94016</td>\n",
       "      <td>9</td>\n",
       "      <td>11.95</td>\n",
       "      <td>San Francisco</td>\n",
       "      <td>0</td>\n",
       "    </tr>\n",
       "  </tbody>\n",
       "</table>\n",
       "<p>1487600 rows × 10 columns</p>\n",
       "</div>"
      ],
      "text/plain": [
       "        Order ID                 Product  Quantity Ordered  Price Each  \\\n",
       "0         248151   AA Batteries (4-pack)                 4        3.84   \n",
       "1         248152    USB-C Charging Cable                 2       11.95   \n",
       "2         248153    USB-C Charging Cable                 1       11.95   \n",
       "3         248154        27in FHD Monitor                 1      149.99   \n",
       "4         248155    USB-C Charging Cable                 1       11.95   \n",
       "...          ...                     ...               ...         ...   \n",
       "1307945   259353  AAA Batteries (4-pack)                 3        2.99   \n",
       "1307946   259354                  iPhone                 1      700.00   \n",
       "1307947   259355                  iPhone                 1      700.00   \n",
       "1307948   259356  34in Ultrawide Monitor                 1      379.99   \n",
       "1307949   259357    USB-C Charging Cable                 1       11.95   \n",
       "\n",
       "                 Order Date                         Purchase Address  Month  \\\n",
       "0       2019-09-17 14:44:00      380 North St, Los Angeles, CA 90001      9   \n",
       "1       2019-09-29 10:19:00             511 8th St, Austin, TX 73301      9   \n",
       "2       2019-09-16 17:48:00    151 Johnson St, Los Angeles, CA 90001      9   \n",
       "3       2019-09-27 07:52:00        355 Hickory St, Seattle, WA 98101      9   \n",
       "4       2019-09-01 19:03:00            125 5th St, Atlanta, GA 30301      9   \n",
       "...                     ...                                      ...    ...   \n",
       "1307945 2019-09-17 20:56:00   840 Highland St, Los Angeles, CA 90001      9   \n",
       "1307946 2019-09-01 16:00:00  216 Dogwood St, San Francisco, CA 94016      9   \n",
       "1307947 2019-09-23 07:39:00     220 12th St, San Francisco, CA 94016      9   \n",
       "1307948 2019-09-19 17:30:00   511 Forest St, San Francisco, CA 94016      9   \n",
       "1307949 2019-09-30 00:18:00   250 Meadow St, San Francisco, CA 94016      9   \n",
       "\n",
       "          Sales            City  Hour  \n",
       "0         15.36     Los Angeles    14  \n",
       "1         23.90          Austin    10  \n",
       "2         11.95     Los Angeles    17  \n",
       "3        149.99         Seattle     7  \n",
       "4         11.95         Atlanta    19  \n",
       "...         ...             ...   ...  \n",
       "1307945    8.97     Los Angeles    20  \n",
       "1307946  700.00   San Francisco    16  \n",
       "1307947  700.00   San Francisco     7  \n",
       "1307948  379.99   San Francisco    17  \n",
       "1307949   11.95   San Francisco     0  \n",
       "\n",
       "[1487600 rows x 10 columns]"
      ]
     },
     "execution_count": 54,
     "metadata": {},
     "output_type": "execute_result"
    }
   ],
   "source": [
    "final"
   ]
  },
  {
   "cell_type": "code",
   "execution_count": null,
   "id": "e79d9f9f",
   "metadata": {},
   "outputs": [],
   "source": []
  },
  {
   "cell_type": "markdown",
   "id": "ca8a58f9",
   "metadata": {},
   "source": [
    "# ANother way to extract hour using split function"
   ]
  },
  {
   "cell_type": "code",
   "execution_count": 55,
   "id": "188aa8f9",
   "metadata": {},
   "outputs": [],
   "source": [
    "order_date_time = \"09/17/19 14:44\""
   ]
  },
  {
   "cell_type": "code",
   "execution_count": 56,
   "id": "30e67106",
   "metadata": {},
   "outputs": [],
   "source": [
    "split_values = order_date_time.split(\" \")"
   ]
  },
  {
   "cell_type": "code",
   "execution_count": 57,
   "id": "42eedcfe",
   "metadata": {},
   "outputs": [
    {
     "data": {
      "text/plain": [
       "['09/17/19', '14:44']"
      ]
     },
     "execution_count": 57,
     "metadata": {},
     "output_type": "execute_result"
    }
   ],
   "source": [
    "split_values"
   ]
  },
  {
   "cell_type": "code",
   "execution_count": 58,
   "id": "aa1ec3d1",
   "metadata": {},
   "outputs": [],
   "source": [
    "date = split_values[0]\n",
    "time = split_values[1]"
   ]
  },
  {
   "cell_type": "code",
   "execution_count": 59,
   "id": "8a0da2b8",
   "metadata": {},
   "outputs": [
    {
     "data": {
      "text/plain": [
       "'09/17/19'"
      ]
     },
     "execution_count": 59,
     "metadata": {},
     "output_type": "execute_result"
    }
   ],
   "source": [
    "date"
   ]
  },
  {
   "cell_type": "code",
   "execution_count": 60,
   "id": "07573157",
   "metadata": {},
   "outputs": [
    {
     "data": {
      "text/plain": [
       "'14:44'"
      ]
     },
     "execution_count": 60,
     "metadata": {},
     "output_type": "execute_result"
    }
   ],
   "source": [
    "time"
   ]
  },
  {
   "cell_type": "code",
   "execution_count": 61,
   "id": "3a8a3e6f",
   "metadata": {},
   "outputs": [],
   "source": [
    "hoursss = time.split(\":\")[0]"
   ]
  },
  {
   "cell_type": "code",
   "execution_count": 62,
   "id": "85e295f9",
   "metadata": {},
   "outputs": [
    {
     "data": {
      "text/plain": [
       "'14'"
      ]
     },
     "execution_count": 62,
     "metadata": {},
     "output_type": "execute_result"
    }
   ],
   "source": [
    "hoursss"
   ]
  },
  {
   "cell_type": "code",
   "execution_count": 63,
   "id": "f1838d6f",
   "metadata": {},
   "outputs": [],
   "source": [
    "keys=[]\n",
    "hour=[]\n",
    "for key,hour_df in final.groupby('Hour'):\n",
    "    keys.append(key)\n",
    "    hour.append(len(hour_df))"
   ]
  },
  {
   "cell_type": "code",
   "execution_count": 64,
   "id": "9d4973ea",
   "metadata": {},
   "outputs": [
    {
     "data": {
      "text/plain": [
       "[0,\n",
       " 1,\n",
       " 2,\n",
       " 3,\n",
       " 4,\n",
       " 5,\n",
       " 6,\n",
       " 7,\n",
       " 8,\n",
       " 9,\n",
       " 10,\n",
       " 11,\n",
       " 12,\n",
       " 13,\n",
       " 14,\n",
       " 15,\n",
       " 16,\n",
       " 17,\n",
       " 18,\n",
       " 19,\n",
       " 20,\n",
       " 21,\n",
       " 22,\n",
       " 23]"
      ]
     },
     "execution_count": 64,
     "metadata": {},
     "output_type": "execute_result"
    }
   ],
   "source": [
    "keys"
   ]
  },
  {
   "cell_type": "code",
   "execution_count": 65,
   "id": "df73a1ad",
   "metadata": {},
   "outputs": [
    {
     "data": {
      "text/plain": [
       "[31280,\n",
       " 18800,\n",
       " 9944,\n",
       " 6648,\n",
       " 6832,\n",
       " 10568,\n",
       " 19856,\n",
       " 32088,\n",
       " 50048,\n",
       " 69984,\n",
       " 87552,\n",
       " 99288,\n",
       " 100696,\n",
       " 97032,\n",
       " 87872,\n",
       " 81400,\n",
       " 83072,\n",
       " 87192,\n",
       " 98240,\n",
       " 103240,\n",
       " 97824,\n",
       " 87368,\n",
       " 70576,\n",
       " 50200]"
      ]
     },
     "execution_count": 65,
     "metadata": {},
     "output_type": "execute_result"
    }
   ],
   "source": [
    "hour"
   ]
  },
  {
   "cell_type": "code",
   "execution_count": 66,
   "id": "a98fed06",
   "metadata": {},
   "outputs": [
    {
     "data": {
      "text/plain": [
       "[<matplotlib.lines.Line2D at 0x1f73343b8b0>]"
      ]
     },
     "execution_count": 66,
     "metadata": {},
     "output_type": "execute_result"
    },
    {
     "data": {
      "image/png": "[encoded data removed]",
      "text/plain": [
       "<Figure size 640x480 with 1 Axes>"
      ]
     },
     "metadata": {},
     "output_type": "display_data"
    }
   ],
   "source": [
    "plt.grid()\n",
    "plt.plot(keys,hour)"
   ]
  },
  {
   "cell_type": "code",
   "execution_count": 67,
   "id": "b9d1bbfc",
   "metadata": {},
   "outputs": [],
   "source": [
    "Product_purchase = final.groupby('Hour')['Sales'].sum()"
   ]
  },
  {
   "cell_type": "code",
   "execution_count": 68,
   "id": "2c94a521",
   "metadata": {},
   "outputs": [
    {
     "data": {
      "text/plain": [
       "Hour\n",
       "0      5709770.16\n",
       "1      3686935.04\n",
       "2      1878811.52\n",
       "3      1166063.12\n",
       "4      1301288.08\n",
       "5      1845438.56\n",
       "6      3584904.00\n",
       "7      5958832.96\n",
       "8      9538791.76\n",
       "9     13112244.64\n",
       "10    15554294.16\n",
       "11    18404881.92\n",
       "12    18534570.72\n",
       "13    17243118.40\n",
       "14    16669381.84\n",
       "15    15532396.80\n",
       "16    15236810.48\n",
       "17    17034892.88\n",
       "18    17754786.40\n",
       "19    19303508.32\n",
       "20    18253729.92\n",
       "21    16336006.88\n",
       "22    12860393.68\n",
       "23     9434435.52\n",
       "Name: Sales, dtype: float64"
      ]
     },
     "execution_count": 68,
     "metadata": {},
     "output_type": "execute_result"
    }
   ],
   "source": [
    "Product_purchase"
   ]
  },
  {
   "cell_type": "code",
   "execution_count": 69,
   "id": "28e7f4e9",
   "metadata": {},
   "outputs": [],
   "source": [
    "max_purchase = Product_purchase.idxmax()"
   ]
  },
  {
   "cell_type": "code",
   "execution_count": 70,
   "id": "ceba12db",
   "metadata": {},
   "outputs": [
    {
     "data": {
      "text/plain": [
       "19"
      ]
     },
     "execution_count": 70,
     "metadata": {},
     "output_type": "execute_result"
    }
   ],
   "source": [
    "max_purchase"
   ]
  },
  {
   "cell_type": "code",
   "execution_count": 71,
   "id": "83c95ec3",
   "metadata": {},
   "outputs": [
    {
     "data": {
      "text/plain": [
       "Hour\n",
       "0      31280\n",
       "1      18800\n",
       "2       9944\n",
       "3       6648\n",
       "4       6832\n",
       "5      10568\n",
       "6      19856\n",
       "7      32088\n",
       "8      50048\n",
       "9      69984\n",
       "10     87552\n",
       "11     99288\n",
       "12    100696\n",
       "13     97032\n",
       "14     87872\n",
       "15     81400\n",
       "16     83072\n",
       "17     87192\n",
       "18     98240\n",
       "19    103240\n",
       "20     97824\n",
       "21     87368\n",
       "22     70576\n",
       "23     50200\n",
       "Name: Sales, dtype: int64"
      ]
     },
     "execution_count": 71,
     "metadata": {},
     "output_type": "execute_result"
    }
   ],
   "source": [
    "Product_purchase = final.groupby('Hour')['Sales'].size()\n",
    "Product_purchase"
   ]
  },
  {
   "cell_type": "code",
   "execution_count": 72,
   "id": "3b5b92f5",
   "metadata": {},
   "outputs": [
    {
     "data": {
      "text/plain": [
       "19"
      ]
     },
     "execution_count": 72,
     "metadata": {},
     "output_type": "execute_result"
    }
   ],
   "source": [
    "max_purchase = Product_purchase.idxmax()\n",
    "max_purchase"
   ]
  },
  {
   "cell_type": "markdown",
   "id": "a2843911",
   "metadata": {},
   "source": [
    "The difference between using size() and sum() in the context of grouping by hour and analyzing sales data is as follows:\n",
    "\n",
    "size(): When you use size() in the context of final.groupby('Hour')['Sales'].size(), it counts the number of occurrences (or rows) for each hour. This means that it gives you the count of sales transactions or purchases that occurred within each hour. The result will be a Series that shows the count of sales for each hour.\n",
    "\n",
    "sum(): On the other hand, when you use sum() in the context of final.groupby('Hour')['Sales'].sum(), it calculates the sum of the 'Sales' values for each hour. This means that it gives you the total sales amount for each hour, considering the 'Sales' values in each transaction. The result will be a Series that shows the total sales amount for each hour.\n",
    "\n",
    "So, the main difference is in the nature of the aggregation:\n",
    "\n",
    "size() gives you the count of occurrences or transactions.\n",
    "sum() gives you the sum or total value of a specific column (in this case, 'Sales').\n",
    "The choice between size() and sum() depends on the type of analysis you want to perform. If you want to know the number of transactions or purchases made within each hour, you would use size(). If you want to know the total sales amount for each hour, you would use sum().\n",
    "\n",
    "In summary, size() is used to count occurrences or transactions, while sum() is used to calculate the sum or total value of a specific column. The two methods provide different insights into the data and are used based on the specific analysis requirements."
   ]
  },
  {
   "cell_type": "markdown",
   "id": "c2583bbb",
   "metadata": {},
   "source": [
    "size() says ki 1 hours mei 50 baar sales hui and\n",
    "sum() says ki 1 hours mei 1000rs ki sales hui"
   ]
  },
  {
   "cell_type": "markdown",
   "id": "98c9ad1e",
   "metadata": {},
   "source": [
    "The choice between these methods depends on your specific analysis needs. If you want to count all occurrences, including null values, use size(). If you want to count only non-null values or valid sales transactions, use count(). If you want to calculate the total sales amount, use sum()"
   ]
  },
  {
   "cell_type": "code",
   "execution_count": null,
   "id": "7c257f00",
   "metadata": {},
   "outputs": [],
   "source": []
  },
  {
   "cell_type": "markdown",
   "id": "4aa72950",
   "metadata": {},
   "source": [
    "# What product sold the most? & Why?"
   ]
  },
  {
   "cell_type": "code",
   "execution_count": 73,
   "id": "cd472fb4",
   "metadata": {},
   "outputs": [
    {
     "data": {
      "text/html": [
       "<div>\n",
       "<style scoped>\n",
       "    .dataframe tbody tr th:only-of-type {\n",
       "        vertical-align: middle;\n",
       "    }\n",
       "\n",
       "    .dataframe tbody tr th {\n",
       "        vertical-align: top;\n",
       "    }\n",
       "\n",
       "    .dataframe thead th {\n",
       "        text-align: right;\n",
       "    }\n",
       "</style>\n",
       "<table border=\"1\" class=\"dataframe\">\n",
       "  <thead>\n",
       "    <tr style=\"text-align: right;\">\n",
       "      <th></th>\n",
       "      <th>Order ID</th>\n",
       "      <th>Product</th>\n",
       "      <th>Quantity Ordered</th>\n",
       "      <th>Price Each</th>\n",
       "      <th>Order Date</th>\n",
       "      <th>Purchase Address</th>\n",
       "      <th>Month</th>\n",
       "      <th>Sales</th>\n",
       "      <th>City</th>\n",
       "      <th>Hour</th>\n",
       "    </tr>\n",
       "  </thead>\n",
       "  <tbody>\n",
       "    <tr>\n",
       "      <th>0</th>\n",
       "      <td>248151</td>\n",
       "      <td>AA Batteries (4-pack)</td>\n",
       "      <td>4</td>\n",
       "      <td>3.84</td>\n",
       "      <td>2019-09-17 14:44:00</td>\n",
       "      <td>380 North St, Los Angeles, CA 90001</td>\n",
       "      <td>9</td>\n",
       "      <td>15.36</td>\n",
       "      <td>Los Angeles</td>\n",
       "      <td>14</td>\n",
       "    </tr>\n",
       "    <tr>\n",
       "      <th>1</th>\n",
       "      <td>248152</td>\n",
       "      <td>USB-C Charging Cable</td>\n",
       "      <td>2</td>\n",
       "      <td>11.95</td>\n",
       "      <td>2019-09-29 10:19:00</td>\n",
       "      <td>511 8th St, Austin, TX 73301</td>\n",
       "      <td>9</td>\n",
       "      <td>23.90</td>\n",
       "      <td>Austin</td>\n",
       "      <td>10</td>\n",
       "    </tr>\n",
       "    <tr>\n",
       "      <th>2</th>\n",
       "      <td>248153</td>\n",
       "      <td>USB-C Charging Cable</td>\n",
       "      <td>1</td>\n",
       "      <td>11.95</td>\n",
       "      <td>2019-09-16 17:48:00</td>\n",
       "      <td>151 Johnson St, Los Angeles, CA 90001</td>\n",
       "      <td>9</td>\n",
       "      <td>11.95</td>\n",
       "      <td>Los Angeles</td>\n",
       "      <td>17</td>\n",
       "    </tr>\n",
       "    <tr>\n",
       "      <th>3</th>\n",
       "      <td>248154</td>\n",
       "      <td>27in FHD Monitor</td>\n",
       "      <td>1</td>\n",
       "      <td>149.99</td>\n",
       "      <td>2019-09-27 07:52:00</td>\n",
       "      <td>355 Hickory St, Seattle, WA 98101</td>\n",
       "      <td>9</td>\n",
       "      <td>149.99</td>\n",
       "      <td>Seattle</td>\n",
       "      <td>7</td>\n",
       "    </tr>\n",
       "    <tr>\n",
       "      <th>4</th>\n",
       "      <td>248155</td>\n",
       "      <td>USB-C Charging Cable</td>\n",
       "      <td>1</td>\n",
       "      <td>11.95</td>\n",
       "      <td>2019-09-01 19:03:00</td>\n",
       "      <td>125 5th St, Atlanta, GA 30301</td>\n",
       "      <td>9</td>\n",
       "      <td>11.95</td>\n",
       "      <td>Atlanta</td>\n",
       "      <td>19</td>\n",
       "    </tr>\n",
       "    <tr>\n",
       "      <th>...</th>\n",
       "      <td>...</td>\n",
       "      <td>...</td>\n",
       "      <td>...</td>\n",
       "      <td>...</td>\n",
       "      <td>...</td>\n",
       "      <td>...</td>\n",
       "      <td>...</td>\n",
       "      <td>...</td>\n",
       "      <td>...</td>\n",
       "      <td>...</td>\n",
       "    </tr>\n",
       "    <tr>\n",
       "      <th>1307945</th>\n",
       "      <td>259353</td>\n",
       "      <td>AAA Batteries (4-pack)</td>\n",
       "      <td>3</td>\n",
       "      <td>2.99</td>\n",
       "      <td>2019-09-17 20:56:00</td>\n",
       "      <td>840 Highland St, Los Angeles, CA 90001</td>\n",
       "      <td>9</td>\n",
       "      <td>8.97</td>\n",
       "      <td>Los Angeles</td>\n",
       "      <td>20</td>\n",
       "    </tr>\n",
       "    <tr>\n",
       "      <th>1307946</th>\n",
       "      <td>259354</td>\n",
       "      <td>iPhone</td>\n",
       "      <td>1</td>\n",
       "      <td>700.00</td>\n",
       "      <td>2019-09-01 16:00:00</td>\n",
       "      <td>216 Dogwood St, San Francisco, CA 94016</td>\n",
       "      <td>9</td>\n",
       "      <td>700.00</td>\n",
       "      <td>San Francisco</td>\n",
       "      <td>16</td>\n",
       "    </tr>\n",
       "    <tr>\n",
       "      <th>1307947</th>\n",
       "      <td>259355</td>\n",
       "      <td>iPhone</td>\n",
       "      <td>1</td>\n",
       "      <td>700.00</td>\n",
       "      <td>2019-09-23 07:39:00</td>\n",
       "      <td>220 12th St, San Francisco, CA 94016</td>\n",
       "      <td>9</td>\n",
       "      <td>700.00</td>\n",
       "      <td>San Francisco</td>\n",
       "      <td>7</td>\n",
       "    </tr>\n",
       "    <tr>\n",
       "      <th>1307948</th>\n",
       "      <td>259356</td>\n",
       "      <td>34in Ultrawide Monitor</td>\n",
       "      <td>1</td>\n",
       "      <td>379.99</td>\n",
       "      <td>2019-09-19 17:30:00</td>\n",
       "      <td>511 Forest St, San Francisco, CA 94016</td>\n",
       "      <td>9</td>\n",
       "      <td>379.99</td>\n",
       "      <td>San Francisco</td>\n",
       "      <td>17</td>\n",
       "    </tr>\n",
       "    <tr>\n",
       "      <th>1307949</th>\n",
       "      <td>259357</td>\n",
       "      <td>USB-C Charging Cable</td>\n",
       "      <td>1</td>\n",
       "      <td>11.95</td>\n",
       "      <td>2019-09-30 00:18:00</td>\n",
       "      <td>250 Meadow St, San Francisco, CA 94016</td>\n",
       "      <td>9</td>\n",
       "      <td>11.95</td>\n",
       "      <td>San Francisco</td>\n",
       "      <td>0</td>\n",
       "    </tr>\n",
       "  </tbody>\n",
       "</table>\n",
       "<p>1487600 rows × 10 columns</p>\n",
       "</div>"
      ],
      "text/plain": [
       "        Order ID                 Product  Quantity Ordered  Price Each  \\\n",
       "0         248151   AA Batteries (4-pack)                 4        3.84   \n",
       "1         248152    USB-C Charging Cable                 2       11.95   \n",
       "2         248153    USB-C Charging Cable                 1       11.95   \n",
       "3         248154        27in FHD Monitor                 1      149.99   \n",
       "4         248155    USB-C Charging Cable                 1       11.95   \n",
       "...          ...                     ...               ...         ...   \n",
       "1307945   259353  AAA Batteries (4-pack)                 3        2.99   \n",
       "1307946   259354                  iPhone                 1      700.00   \n",
       "1307947   259355                  iPhone                 1      700.00   \n",
       "1307948   259356  34in Ultrawide Monitor                 1      379.99   \n",
       "1307949   259357    USB-C Charging Cable                 1       11.95   \n",
       "\n",
       "                 Order Date                         Purchase Address  Month  \\\n",
       "0       2019-09-17 14:44:00      380 North St, Los Angeles, CA 90001      9   \n",
       "1       2019-09-29 10:19:00             511 8th St, Austin, TX 73301      9   \n",
       "2       2019-09-16 17:48:00    151 Johnson St, Los Angeles, CA 90001      9   \n",
       "3       2019-09-27 07:52:00        355 Hickory St, Seattle, WA 98101      9   \n",
       "4       2019-09-01 19:03:00            125 5th St, Atlanta, GA 30301      9   \n",
       "...                     ...                                      ...    ...   \n",
       "1307945 2019-09-17 20:56:00   840 Highland St, Los Angeles, CA 90001      9   \n",
       "1307946 2019-09-01 16:00:00  216 Dogwood St, San Francisco, CA 94016      9   \n",
       "1307947 2019-09-23 07:39:00     220 12th St, San Francisco, CA 94016      9   \n",
       "1307948 2019-09-19 17:30:00   511 Forest St, San Francisco, CA 94016      9   \n",
       "1307949 2019-09-30 00:18:00   250 Meadow St, San Francisco, CA 94016      9   \n",
       "\n",
       "          Sales            City  Hour  \n",
       "0         15.36     Los Angeles    14  \n",
       "1         23.90          Austin    10  \n",
       "2         11.95     Los Angeles    17  \n",
       "3        149.99         Seattle     7  \n",
       "4         11.95         Atlanta    19  \n",
       "...         ...             ...   ...  \n",
       "1307945    8.97     Los Angeles    20  \n",
       "1307946  700.00   San Francisco    16  \n",
       "1307947  700.00   San Francisco     7  \n",
       "1307948  379.99   San Francisco    17  \n",
       "1307949   11.95   San Francisco     0  \n",
       "\n",
       "[1487600 rows x 10 columns]"
      ]
     },
     "execution_count": 73,
     "metadata": {},
     "output_type": "execute_result"
    }
   ],
   "source": [
    "final"
   ]
  },
  {
   "cell_type": "code",
   "execution_count": 74,
   "id": "99f698fe",
   "metadata": {},
   "outputs": [],
   "source": [
    "prduct_sold_most = final.groupby('Product')['Quantity Ordered'].sum()"
   ]
  },
  {
   "cell_type": "code",
   "execution_count": 75,
   "id": "7f2a4c36",
   "metadata": {},
   "outputs": [
    {
     "data": {
      "text/plain": [
       "Product\n",
       "20in Monitor                   33032\n",
       "27in 4K Gaming Monitor         49952\n",
       "27in FHD Monitor               60400\n",
       "34in Ultrawide Monitor         49592\n",
       "AA Batteries (4-pack)         221080\n",
       "AAA Batteries (4-pack)        248136\n",
       "Apple Airpods Headphones      125288\n",
       "Bose SoundSport Headphones    107656\n",
       "Flatscreen TV                  38552\n",
       "Google Phone                   44256\n",
       "LG Dryer                        5168\n",
       "LG Washing Machine              5328\n",
       "Lightning Charging Cable      185736\n",
       "Macbook Pro Laptop             37824\n",
       "ThinkPad Laptop                33040\n",
       "USB-C Charging Cable          191800\n",
       "Vareebadd Phone                16544\n",
       "Wired Headphones              164456\n",
       "iPhone                         54792\n",
       "Name: Quantity Ordered, dtype: int32"
      ]
     },
     "execution_count": 75,
     "metadata": {},
     "output_type": "execute_result"
    }
   ],
   "source": [
    "prduct_sold_most"
   ]
  },
  {
   "cell_type": "markdown",
   "id": "e9d6e453",
   "metadata": {},
   "source": [
    "# Which are the products that are sold in a group"
   ]
  },
  {
   "cell_type": "code",
   "execution_count": 79,
   "id": "0a6a29f7",
   "metadata": {},
   "outputs": [],
   "source": [
    "df = final['Order ID'].duplicated(keep = False)\n",
    "df2 = final[df]"
   ]
  },
  {
   "cell_type": "code",
   "execution_count": 82,
   "id": "80ee71b2",
   "metadata": {},
   "outputs": [
    {
     "data": {
      "text/html": [
       "<div>\n",
       "<style scoped>\n",
       "    .dataframe tbody tr th:only-of-type {\n",
       "        vertical-align: middle;\n",
       "    }\n",
       "\n",
       "    .dataframe tbody tr th {\n",
       "        vertical-align: top;\n",
       "    }\n",
       "\n",
       "    .dataframe thead th {\n",
       "        text-align: right;\n",
       "    }\n",
       "</style>\n",
       "<table border=\"1\" class=\"dataframe\">\n",
       "  <thead>\n",
       "    <tr style=\"text-align: right;\">\n",
       "      <th></th>\n",
       "      <th>Order ID</th>\n",
       "      <th>Product</th>\n",
       "      <th>Quantity Ordered</th>\n",
       "      <th>Price Each</th>\n",
       "      <th>Order Date</th>\n",
       "      <th>Purchase Address</th>\n",
       "      <th>Month</th>\n",
       "      <th>Sales</th>\n",
       "      <th>City</th>\n",
       "      <th>Hour</th>\n",
       "    </tr>\n",
       "  </thead>\n",
       "  <tbody>\n",
       "    <tr>\n",
       "      <th>0</th>\n",
       "      <td>248151</td>\n",
       "      <td>AA Batteries (4-pack)</td>\n",
       "      <td>4</td>\n",
       "      <td>3.84</td>\n",
       "      <td>2019-09-17 14:44:00</td>\n",
       "      <td>380 North St, Los Angeles, CA 90001</td>\n",
       "      <td>9</td>\n",
       "      <td>15.36</td>\n",
       "      <td>Los Angeles</td>\n",
       "      <td>14</td>\n",
       "    </tr>\n",
       "    <tr>\n",
       "      <th>1</th>\n",
       "      <td>248152</td>\n",
       "      <td>USB-C Charging Cable</td>\n",
       "      <td>2</td>\n",
       "      <td>11.95</td>\n",
       "      <td>2019-09-29 10:19:00</td>\n",
       "      <td>511 8th St, Austin, TX 73301</td>\n",
       "      <td>9</td>\n",
       "      <td>23.90</td>\n",
       "      <td>Austin</td>\n",
       "      <td>10</td>\n",
       "    </tr>\n",
       "    <tr>\n",
       "      <th>2</th>\n",
       "      <td>248153</td>\n",
       "      <td>USB-C Charging Cable</td>\n",
       "      <td>1</td>\n",
       "      <td>11.95</td>\n",
       "      <td>2019-09-16 17:48:00</td>\n",
       "      <td>151 Johnson St, Los Angeles, CA 90001</td>\n",
       "      <td>9</td>\n",
       "      <td>11.95</td>\n",
       "      <td>Los Angeles</td>\n",
       "      <td>17</td>\n",
       "    </tr>\n",
       "    <tr>\n",
       "      <th>3</th>\n",
       "      <td>248154</td>\n",
       "      <td>27in FHD Monitor</td>\n",
       "      <td>1</td>\n",
       "      <td>149.99</td>\n",
       "      <td>2019-09-27 07:52:00</td>\n",
       "      <td>355 Hickory St, Seattle, WA 98101</td>\n",
       "      <td>9</td>\n",
       "      <td>149.99</td>\n",
       "      <td>Seattle</td>\n",
       "      <td>7</td>\n",
       "    </tr>\n",
       "    <tr>\n",
       "      <th>4</th>\n",
       "      <td>248155</td>\n",
       "      <td>USB-C Charging Cable</td>\n",
       "      <td>1</td>\n",
       "      <td>11.95</td>\n",
       "      <td>2019-09-01 19:03:00</td>\n",
       "      <td>125 5th St, Atlanta, GA 30301</td>\n",
       "      <td>9</td>\n",
       "      <td>11.95</td>\n",
       "      <td>Atlanta</td>\n",
       "      <td>19</td>\n",
       "    </tr>\n",
       "    <tr>\n",
       "      <th>...</th>\n",
       "      <td>...</td>\n",
       "      <td>...</td>\n",
       "      <td>...</td>\n",
       "      <td>...</td>\n",
       "      <td>...</td>\n",
       "      <td>...</td>\n",
       "      <td>...</td>\n",
       "      <td>...</td>\n",
       "      <td>...</td>\n",
       "      <td>...</td>\n",
       "    </tr>\n",
       "    <tr>\n",
       "      <th>1307945</th>\n",
       "      <td>259353</td>\n",
       "      <td>AAA Batteries (4-pack)</td>\n",
       "      <td>3</td>\n",
       "      <td>2.99</td>\n",
       "      <td>2019-09-17 20:56:00</td>\n",
       "      <td>840 Highland St, Los Angeles, CA 90001</td>\n",
       "      <td>9</td>\n",
       "      <td>8.97</td>\n",
       "      <td>Los Angeles</td>\n",
       "      <td>20</td>\n",
       "    </tr>\n",
       "    <tr>\n",
       "      <th>1307946</th>\n",
       "      <td>259354</td>\n",
       "      <td>iPhone</td>\n",
       "      <td>1</td>\n",
       "      <td>700.00</td>\n",
       "      <td>2019-09-01 16:00:00</td>\n",
       "      <td>216 Dogwood St, San Francisco, CA 94016</td>\n",
       "      <td>9</td>\n",
       "      <td>700.00</td>\n",
       "      <td>San Francisco</td>\n",
       "      <td>16</td>\n",
       "    </tr>\n",
       "    <tr>\n",
       "      <th>1307947</th>\n",
       "      <td>259355</td>\n",
       "      <td>iPhone</td>\n",
       "      <td>1</td>\n",
       "      <td>700.00</td>\n",
       "      <td>2019-09-23 07:39:00</td>\n",
       "      <td>220 12th St, San Francisco, CA 94016</td>\n",
       "      <td>9</td>\n",
       "      <td>700.00</td>\n",
       "      <td>San Francisco</td>\n",
       "      <td>7</td>\n",
       "    </tr>\n",
       "    <tr>\n",
       "      <th>1307948</th>\n",
       "      <td>259356</td>\n",
       "      <td>34in Ultrawide Monitor</td>\n",
       "      <td>1</td>\n",
       "      <td>379.99</td>\n",
       "      <td>2019-09-19 17:30:00</td>\n",
       "      <td>511 Forest St, San Francisco, CA 94016</td>\n",
       "      <td>9</td>\n",
       "      <td>379.99</td>\n",
       "      <td>San Francisco</td>\n",
       "      <td>17</td>\n",
       "    </tr>\n",
       "    <tr>\n",
       "      <th>1307949</th>\n",
       "      <td>259357</td>\n",
       "      <td>USB-C Charging Cable</td>\n",
       "      <td>1</td>\n",
       "      <td>11.95</td>\n",
       "      <td>2019-09-30 00:18:00</td>\n",
       "      <td>250 Meadow St, San Francisco, CA 94016</td>\n",
       "      <td>9</td>\n",
       "      <td>11.95</td>\n",
       "      <td>San Francisco</td>\n",
       "      <td>0</td>\n",
       "    </tr>\n",
       "  </tbody>\n",
       "</table>\n",
       "<p>1487600 rows × 10 columns</p>\n",
       "</div>"
      ],
      "text/plain": [
       "        Order ID                 Product  Quantity Ordered  Price Each  \\\n",
       "0         248151   AA Batteries (4-pack)                 4        3.84   \n",
       "1         248152    USB-C Charging Cable                 2       11.95   \n",
       "2         248153    USB-C Charging Cable                 1       11.95   \n",
       "3         248154        27in FHD Monitor                 1      149.99   \n",
       "4         248155    USB-C Charging Cable                 1       11.95   \n",
       "...          ...                     ...               ...         ...   \n",
       "1307945   259353  AAA Batteries (4-pack)                 3        2.99   \n",
       "1307946   259354                  iPhone                 1      700.00   \n",
       "1307947   259355                  iPhone                 1      700.00   \n",
       "1307948   259356  34in Ultrawide Monitor                 1      379.99   \n",
       "1307949   259357    USB-C Charging Cable                 1       11.95   \n",
       "\n",
       "                 Order Date                         Purchase Address  Month  \\\n",
       "0       2019-09-17 14:44:00      380 North St, Los Angeles, CA 90001      9   \n",
       "1       2019-09-29 10:19:00             511 8th St, Austin, TX 73301      9   \n",
       "2       2019-09-16 17:48:00    151 Johnson St, Los Angeles, CA 90001      9   \n",
       "3       2019-09-27 07:52:00        355 Hickory St, Seattle, WA 98101      9   \n",
       "4       2019-09-01 19:03:00            125 5th St, Atlanta, GA 30301      9   \n",
       "...                     ...                                      ...    ...   \n",
       "1307945 2019-09-17 20:56:00   840 Highland St, Los Angeles, CA 90001      9   \n",
       "1307946 2019-09-01 16:00:00  216 Dogwood St, San Francisco, CA 94016      9   \n",
       "1307947 2019-09-23 07:39:00     220 12th St, San Francisco, CA 94016      9   \n",
       "1307948 2019-09-19 17:30:00   511 Forest St, San Francisco, CA 94016      9   \n",
       "1307949 2019-09-30 00:18:00   250 Meadow St, San Francisco, CA 94016      9   \n",
       "\n",
       "          Sales            City  Hour  \n",
       "0         15.36     Los Angeles    14  \n",
       "1         23.90          Austin    10  \n",
       "2         11.95     Los Angeles    17  \n",
       "3        149.99         Seattle     7  \n",
       "4         11.95         Atlanta    19  \n",
       "...         ...             ...   ...  \n",
       "1307945    8.97     Los Angeles    20  \n",
       "1307946  700.00   San Francisco    16  \n",
       "1307947  700.00   San Francisco     7  \n",
       "1307948  379.99   San Francisco    17  \n",
       "1307949   11.95   San Francisco     0  \n",
       "\n",
       "[1487600 rows x 10 columns]"
      ]
     },
     "execution_count": 82,
     "metadata": {},
     "output_type": "execute_result"
    }
   ],
   "source": [
    "df2\n",
    "#df2 represents a new DataFrame that contains only the rows from final where the 'Order ID' is duplicated. \n",
    "#It includes all occurrences of the duplicated 'Order ID' values, allowing you to further analyze or process \n",
    "#those specific rows separately."
   ]
  },
  {
   "cell_type": "code",
   "execution_count": 83,
   "id": "59832d7b",
   "metadata": {},
   "outputs": [],
   "source": [
    "df2['Gouped'] = df2.groupby('Order ID')['Product'].transform(lambda x :','.join(x))"
   ]
  },
  {
   "cell_type": "markdown",
   "id": "68911e0a",
   "metadata": {},
   "source": [
    "df2['Gouped'] = df2.groupby('Order ID')['Product'].transform(lambda x: ','.join(x)): This line creates a new column called 'Grouped' in the DataFrame df2. It groups the rows by 'Order ID' and applies the ','.join(x) function to concatenate the values in the 'Product' column for each group, separated by commas. The transform() function ensures that the concatenated values are aligned with the original rows."
   ]
  },
  {
   "cell_type": "code",
   "execution_count": 84,
   "id": "2f1f73c0",
   "metadata": {},
   "outputs": [
    {
     "data": {
      "text/html": [
       "<div>\n",
       "<style scoped>\n",
       "    .dataframe tbody tr th:only-of-type {\n",
       "        vertical-align: middle;\n",
       "    }\n",
       "\n",
       "    .dataframe tbody tr th {\n",
       "        vertical-align: top;\n",
       "    }\n",
       "\n",
       "    .dataframe thead th {\n",
       "        text-align: right;\n",
       "    }\n",
       "</style>\n",
       "<table border=\"1\" class=\"dataframe\">\n",
       "  <thead>\n",
       "    <tr style=\"text-align: right;\">\n",
       "      <th></th>\n",
       "      <th>Order ID</th>\n",
       "      <th>Product</th>\n",
       "      <th>Quantity Ordered</th>\n",
       "      <th>Price Each</th>\n",
       "      <th>Order Date</th>\n",
       "      <th>Purchase Address</th>\n",
       "      <th>Month</th>\n",
       "      <th>Sales</th>\n",
       "      <th>City</th>\n",
       "      <th>Hour</th>\n",
       "      <th>Gouped</th>\n",
       "    </tr>\n",
       "  </thead>\n",
       "  <tbody>\n",
       "    <tr>\n",
       "      <th>0</th>\n",
       "      <td>248151</td>\n",
       "      <td>AA Batteries (4-pack)</td>\n",
       "      <td>4</td>\n",
       "      <td>3.84</td>\n",
       "      <td>2019-09-17 14:44:00</td>\n",
       "      <td>380 North St, Los Angeles, CA 90001</td>\n",
       "      <td>9</td>\n",
       "      <td>15.36</td>\n",
       "      <td>Los Angeles</td>\n",
       "      <td>14</td>\n",
       "      <td>AA Batteries (4-pack),AA Batteries (4-pack),AA...</td>\n",
       "    </tr>\n",
       "    <tr>\n",
       "      <th>1</th>\n",
       "      <td>248152</td>\n",
       "      <td>USB-C Charging Cable</td>\n",
       "      <td>2</td>\n",
       "      <td>11.95</td>\n",
       "      <td>2019-09-29 10:19:00</td>\n",
       "      <td>511 8th St, Austin, TX 73301</td>\n",
       "      <td>9</td>\n",
       "      <td>23.90</td>\n",
       "      <td>Austin</td>\n",
       "      <td>10</td>\n",
       "      <td>USB-C Charging Cable,USB-C Charging Cable,USB-...</td>\n",
       "    </tr>\n",
       "    <tr>\n",
       "      <th>2</th>\n",
       "      <td>248153</td>\n",
       "      <td>USB-C Charging Cable</td>\n",
       "      <td>1</td>\n",
       "      <td>11.95</td>\n",
       "      <td>2019-09-16 17:48:00</td>\n",
       "      <td>151 Johnson St, Los Angeles, CA 90001</td>\n",
       "      <td>9</td>\n",
       "      <td>11.95</td>\n",
       "      <td>Los Angeles</td>\n",
       "      <td>17</td>\n",
       "      <td>USB-C Charging Cable,USB-C Charging Cable,USB-...</td>\n",
       "    </tr>\n",
       "    <tr>\n",
       "      <th>3</th>\n",
       "      <td>248154</td>\n",
       "      <td>27in FHD Monitor</td>\n",
       "      <td>1</td>\n",
       "      <td>149.99</td>\n",
       "      <td>2019-09-27 07:52:00</td>\n",
       "      <td>355 Hickory St, Seattle, WA 98101</td>\n",
       "      <td>9</td>\n",
       "      <td>149.99</td>\n",
       "      <td>Seattle</td>\n",
       "      <td>7</td>\n",
       "      <td>27in FHD Monitor,27in FHD Monitor,27in FHD Mon...</td>\n",
       "    </tr>\n",
       "    <tr>\n",
       "      <th>4</th>\n",
       "      <td>248155</td>\n",
       "      <td>USB-C Charging Cable</td>\n",
       "      <td>1</td>\n",
       "      <td>11.95</td>\n",
       "      <td>2019-09-01 19:03:00</td>\n",
       "      <td>125 5th St, Atlanta, GA 30301</td>\n",
       "      <td>9</td>\n",
       "      <td>11.95</td>\n",
       "      <td>Atlanta</td>\n",
       "      <td>19</td>\n",
       "      <td>USB-C Charging Cable,USB-C Charging Cable,USB-...</td>\n",
       "    </tr>\n",
       "  </tbody>\n",
       "</table>\n",
       "</div>"
      ],
      "text/plain": [
       "  Order ID                Product  Quantity Ordered  Price Each  \\\n",
       "0   248151  AA Batteries (4-pack)                 4        3.84   \n",
       "1   248152   USB-C Charging Cable                 2       11.95   \n",
       "2   248153   USB-C Charging Cable                 1       11.95   \n",
       "3   248154       27in FHD Monitor                 1      149.99   \n",
       "4   248155   USB-C Charging Cable                 1       11.95   \n",
       "\n",
       "           Order Date                       Purchase Address  Month   Sales  \\\n",
       "0 2019-09-17 14:44:00    380 North St, Los Angeles, CA 90001      9   15.36   \n",
       "1 2019-09-29 10:19:00           511 8th St, Austin, TX 73301      9   23.90   \n",
       "2 2019-09-16 17:48:00  151 Johnson St, Los Angeles, CA 90001      9   11.95   \n",
       "3 2019-09-27 07:52:00      355 Hickory St, Seattle, WA 98101      9  149.99   \n",
       "4 2019-09-01 19:03:00          125 5th St, Atlanta, GA 30301      9   11.95   \n",
       "\n",
       "           City  Hour                                             Gouped  \n",
       "0   Los Angeles    14  AA Batteries (4-pack),AA Batteries (4-pack),AA...  \n",
       "1        Austin    10  USB-C Charging Cable,USB-C Charging Cable,USB-...  \n",
       "2   Los Angeles    17  USB-C Charging Cable,USB-C Charging Cable,USB-...  \n",
       "3       Seattle     7  27in FHD Monitor,27in FHD Monitor,27in FHD Mon...  \n",
       "4       Atlanta    19  USB-C Charging Cable,USB-C Charging Cable,USB-...  "
      ]
     },
     "execution_count": 84,
     "metadata": {},
     "output_type": "execute_result"
    }
   ],
   "source": [
    "df2.head()"
   ]
  },
  {
   "cell_type": "code",
   "execution_count": 85,
   "id": "cd98b548",
   "metadata": {},
   "outputs": [],
   "source": [
    "df2 = df2.drop_duplicates(subset = ['Order ID'])"
   ]
  },
  {
   "cell_type": "code",
   "execution_count": 86,
   "id": "7bc91faf",
   "metadata": {},
   "outputs": [
    {
     "data": {
      "text/html": [
       "<div>\n",
       "<style scoped>\n",
       "    .dataframe tbody tr th:only-of-type {\n",
       "        vertical-align: middle;\n",
       "    }\n",
       "\n",
       "    .dataframe tbody tr th {\n",
       "        vertical-align: top;\n",
       "    }\n",
       "\n",
       "    .dataframe thead th {\n",
       "        text-align: right;\n",
       "    }\n",
       "</style>\n",
       "<table border=\"1\" class=\"dataframe\">\n",
       "  <thead>\n",
       "    <tr style=\"text-align: right;\">\n",
       "      <th></th>\n",
       "      <th>Order ID</th>\n",
       "      <th>Product</th>\n",
       "      <th>Quantity Ordered</th>\n",
       "      <th>Price Each</th>\n",
       "      <th>Order Date</th>\n",
       "      <th>Purchase Address</th>\n",
       "      <th>Month</th>\n",
       "      <th>Sales</th>\n",
       "      <th>City</th>\n",
       "      <th>Hour</th>\n",
       "      <th>Gouped</th>\n",
       "    </tr>\n",
       "  </thead>\n",
       "  <tbody>\n",
       "    <tr>\n",
       "      <th>0</th>\n",
       "      <td>248151</td>\n",
       "      <td>AA Batteries (4-pack)</td>\n",
       "      <td>4</td>\n",
       "      <td>3.84</td>\n",
       "      <td>2019-09-17 14:44:00</td>\n",
       "      <td>380 North St, Los Angeles, CA 90001</td>\n",
       "      <td>9</td>\n",
       "      <td>15.36</td>\n",
       "      <td>Los Angeles</td>\n",
       "      <td>14</td>\n",
       "      <td>AA Batteries (4-pack),AA Batteries (4-pack),AA...</td>\n",
       "    </tr>\n",
       "    <tr>\n",
       "      <th>1</th>\n",
       "      <td>248152</td>\n",
       "      <td>USB-C Charging Cable</td>\n",
       "      <td>2</td>\n",
       "      <td>11.95</td>\n",
       "      <td>2019-09-29 10:19:00</td>\n",
       "      <td>511 8th St, Austin, TX 73301</td>\n",
       "      <td>9</td>\n",
       "      <td>23.90</td>\n",
       "      <td>Austin</td>\n",
       "      <td>10</td>\n",
       "      <td>USB-C Charging Cable,USB-C Charging Cable,USB-...</td>\n",
       "    </tr>\n",
       "    <tr>\n",
       "      <th>2</th>\n",
       "      <td>248153</td>\n",
       "      <td>USB-C Charging Cable</td>\n",
       "      <td>1</td>\n",
       "      <td>11.95</td>\n",
       "      <td>2019-09-16 17:48:00</td>\n",
       "      <td>151 Johnson St, Los Angeles, CA 90001</td>\n",
       "      <td>9</td>\n",
       "      <td>11.95</td>\n",
       "      <td>Los Angeles</td>\n",
       "      <td>17</td>\n",
       "      <td>USB-C Charging Cable,USB-C Charging Cable,USB-...</td>\n",
       "    </tr>\n",
       "    <tr>\n",
       "      <th>3</th>\n",
       "      <td>248154</td>\n",
       "      <td>27in FHD Monitor</td>\n",
       "      <td>1</td>\n",
       "      <td>149.99</td>\n",
       "      <td>2019-09-27 07:52:00</td>\n",
       "      <td>355 Hickory St, Seattle, WA 98101</td>\n",
       "      <td>9</td>\n",
       "      <td>149.99</td>\n",
       "      <td>Seattle</td>\n",
       "      <td>7</td>\n",
       "      <td>27in FHD Monitor,27in FHD Monitor,27in FHD Mon...</td>\n",
       "    </tr>\n",
       "    <tr>\n",
       "      <th>4</th>\n",
       "      <td>248155</td>\n",
       "      <td>USB-C Charging Cable</td>\n",
       "      <td>1</td>\n",
       "      <td>11.95</td>\n",
       "      <td>2019-09-01 19:03:00</td>\n",
       "      <td>125 5th St, Atlanta, GA 30301</td>\n",
       "      <td>9</td>\n",
       "      <td>11.95</td>\n",
       "      <td>Atlanta</td>\n",
       "      <td>19</td>\n",
       "      <td>USB-C Charging Cable,USB-C Charging Cable,USB-...</td>\n",
       "    </tr>\n",
       "    <tr>\n",
       "      <th>...</th>\n",
       "      <td>...</td>\n",
       "      <td>...</td>\n",
       "      <td>...</td>\n",
       "      <td>...</td>\n",
       "      <td>...</td>\n",
       "      <td>...</td>\n",
       "      <td>...</td>\n",
       "      <td>...</td>\n",
       "      <td>...</td>\n",
       "      <td>...</td>\n",
       "      <td>...</td>\n",
       "    </tr>\n",
       "    <tr>\n",
       "      <th>18378</th>\n",
       "      <td>194090</td>\n",
       "      <td>Google Phone</td>\n",
       "      <td>1</td>\n",
       "      <td>600.00</td>\n",
       "      <td>2019-04-08 17:11:00</td>\n",
       "      <td>177 Jackson St, Los Angeles, CA 90001</td>\n",
       "      <td>4</td>\n",
       "      <td>600.00</td>\n",
       "      <td>Los Angeles</td>\n",
       "      <td>17</td>\n",
       "      <td>Google Phone,Google Phone,Google Phone,Google ...</td>\n",
       "    </tr>\n",
       "    <tr>\n",
       "      <th>18379</th>\n",
       "      <td>194091</td>\n",
       "      <td>AA Batteries (4-pack)</td>\n",
       "      <td>1</td>\n",
       "      <td>3.84</td>\n",
       "      <td>2019-04-15 16:02:00</td>\n",
       "      <td>311 Forest St, Austin, TX 73301</td>\n",
       "      <td>4</td>\n",
       "      <td>3.84</td>\n",
       "      <td>Austin</td>\n",
       "      <td>16</td>\n",
       "      <td>AA Batteries (4-pack),AA Batteries (4-pack),AA...</td>\n",
       "    </tr>\n",
       "    <tr>\n",
       "      <th>18380</th>\n",
       "      <td>194092</td>\n",
       "      <td>AAA Batteries (4-pack)</td>\n",
       "      <td>2</td>\n",
       "      <td>2.99</td>\n",
       "      <td>2019-04-28 14:36:00</td>\n",
       "      <td>347 Sunset St, San Francisco, CA 94016</td>\n",
       "      <td>4</td>\n",
       "      <td>5.98</td>\n",
       "      <td>San Francisco</td>\n",
       "      <td>14</td>\n",
       "      <td>AAA Batteries (4-pack),AAA Batteries (4-pack),...</td>\n",
       "    </tr>\n",
       "    <tr>\n",
       "      <th>18381</th>\n",
       "      <td>194093</td>\n",
       "      <td>AA Batteries (4-pack)</td>\n",
       "      <td>1</td>\n",
       "      <td>3.84</td>\n",
       "      <td>2019-04-14 15:09:00</td>\n",
       "      <td>835 Lake St, Portland, OR 97035</td>\n",
       "      <td>4</td>\n",
       "      <td>3.84</td>\n",
       "      <td>Portland</td>\n",
       "      <td>15</td>\n",
       "      <td>AA Batteries (4-pack),AA Batteries (4-pack),AA...</td>\n",
       "    </tr>\n",
       "    <tr>\n",
       "      <th>18382</th>\n",
       "      <td>194094</td>\n",
       "      <td>Lightning Charging Cable</td>\n",
       "      <td>1</td>\n",
       "      <td>14.95</td>\n",
       "      <td>2019-04-18 11:08:00</td>\n",
       "      <td>354 North St, Boston, MA 02215</td>\n",
       "      <td>4</td>\n",
       "      <td>14.95</td>\n",
       "      <td>Boston</td>\n",
       "      <td>11</td>\n",
       "      <td>Lightning Charging Cable,Lightning Charging Ca...</td>\n",
       "    </tr>\n",
       "  </tbody>\n",
       "</table>\n",
       "<p>178437 rows × 11 columns</p>\n",
       "</div>"
      ],
      "text/plain": [
       "      Order ID                   Product  Quantity Ordered  Price Each  \\\n",
       "0       248151     AA Batteries (4-pack)                 4        3.84   \n",
       "1       248152      USB-C Charging Cable                 2       11.95   \n",
       "2       248153      USB-C Charging Cable                 1       11.95   \n",
       "3       248154          27in FHD Monitor                 1      149.99   \n",
       "4       248155      USB-C Charging Cable                 1       11.95   \n",
       "...        ...                       ...               ...         ...   \n",
       "18378   194090              Google Phone                 1      600.00   \n",
       "18379   194091     AA Batteries (4-pack)                 1        3.84   \n",
       "18380   194092    AAA Batteries (4-pack)                 2        2.99   \n",
       "18381   194093     AA Batteries (4-pack)                 1        3.84   \n",
       "18382   194094  Lightning Charging Cable                 1       14.95   \n",
       "\n",
       "               Order Date                        Purchase Address  Month  \\\n",
       "0     2019-09-17 14:44:00     380 North St, Los Angeles, CA 90001      9   \n",
       "1     2019-09-29 10:19:00            511 8th St, Austin, TX 73301      9   \n",
       "2     2019-09-16 17:48:00   151 Johnson St, Los Angeles, CA 90001      9   \n",
       "3     2019-09-27 07:52:00       355 Hickory St, Seattle, WA 98101      9   \n",
       "4     2019-09-01 19:03:00           125 5th St, Atlanta, GA 30301      9   \n",
       "...                   ...                                     ...    ...   \n",
       "18378 2019-04-08 17:11:00   177 Jackson St, Los Angeles, CA 90001      4   \n",
       "18379 2019-04-15 16:02:00         311 Forest St, Austin, TX 73301      4   \n",
       "18380 2019-04-28 14:36:00  347 Sunset St, San Francisco, CA 94016      4   \n",
       "18381 2019-04-14 15:09:00         835 Lake St, Portland, OR 97035      4   \n",
       "18382 2019-04-18 11:08:00          354 North St, Boston, MA 02215      4   \n",
       "\n",
       "        Sales            City  Hour  \\\n",
       "0       15.36     Los Angeles    14   \n",
       "1       23.90          Austin    10   \n",
       "2       11.95     Los Angeles    17   \n",
       "3      149.99         Seattle     7   \n",
       "4       11.95         Atlanta    19   \n",
       "...       ...             ...   ...   \n",
       "18378  600.00     Los Angeles    17   \n",
       "18379    3.84          Austin    16   \n",
       "18380    5.98   San Francisco    14   \n",
       "18381    3.84        Portland    15   \n",
       "18382   14.95          Boston    11   \n",
       "\n",
       "                                                  Gouped  \n",
       "0      AA Batteries (4-pack),AA Batteries (4-pack),AA...  \n",
       "1      USB-C Charging Cable,USB-C Charging Cable,USB-...  \n",
       "2      USB-C Charging Cable,USB-C Charging Cable,USB-...  \n",
       "3      27in FHD Monitor,27in FHD Monitor,27in FHD Mon...  \n",
       "4      USB-C Charging Cable,USB-C Charging Cable,USB-...  \n",
       "...                                                  ...  \n",
       "18378  Google Phone,Google Phone,Google Phone,Google ...  \n",
       "18379  AA Batteries (4-pack),AA Batteries (4-pack),AA...  \n",
       "18380  AAA Batteries (4-pack),AAA Batteries (4-pack),...  \n",
       "18381  AA Batteries (4-pack),AA Batteries (4-pack),AA...  \n",
       "18382  Lightning Charging Cable,Lightning Charging Ca...  \n",
       "\n",
       "[178437 rows x 11 columns]"
      ]
     },
     "execution_count": 86,
     "metadata": {},
     "output_type": "execute_result"
    }
   ],
   "source": [
    "df2"
   ]
  },
  {
   "cell_type": "code",
   "execution_count": 90,
   "id": "5e6a6592",
   "metadata": {},
   "outputs": [
    {
     "data": {
      "text/plain": [
       "Gouped\n",
       "Lightning Charging Cable,Lightning Charging Cable,Lightning Charging Cable,Lightning Charging Cable,Lightning Charging Cable,Lightning Charging Cable,Lightning Charging Cable,Lightning Charging Cable                                                                                                                                                                                                                            19831\n",
       "AAA Batteries (4-pack),AAA Batteries (4-pack),AAA Batteries (4-pack),AAA Batteries (4-pack),AAA Batteries (4-pack),AAA Batteries (4-pack),AAA Batteries (4-pack),AAA Batteries (4-pack)                                                                                                                                                                                                                                            19826\n",
       "AA Batteries (4-pack),AA Batteries (4-pack),AA Batteries (4-pack),AA Batteries (4-pack),AA Batteries (4-pack),AA Batteries (4-pack),AA Batteries (4-pack),AA Batteries (4-pack)                                                                                                                                                                                                                                                    19809\n",
       "USB-C Charging Cable,USB-C Charging Cable,USB-C Charging Cable,USB-C Charging Cable,USB-C Charging Cable,USB-C Charging Cable,USB-C Charging Cable,USB-C Charging Cable                                                                                                                                                                                                                                                            19792\n",
       "Wired Headphones,Wired Headphones,Wired Headphones,Wired Headphones,Wired Headphones,Wired Headphones,Wired Headphones,Wired Headphones                                                                                                                                                                                                                                                                                            17208\n",
       "                                                                                                                                                                                                                                                                                                                                                                                                                                   ...  \n",
       "LG Dryer,Lightning Charging Cable,LG Dryer,Lightning Charging Cable,LG Dryer,Lightning Charging Cable,LG Dryer,Lightning Charging Cable,LG Dryer,Lightning Charging Cable,LG Dryer,Lightning Charging Cable,LG Dryer,Lightning Charging Cable,LG Dryer,Lightning Charging Cable                                                                                                                                                        1\n",
       "Google Phone,Wired Headphones,AA Batteries (4-pack),Google Phone,Wired Headphones,AA Batteries (4-pack),Google Phone,Wired Headphones,AA Batteries (4-pack),Google Phone,Wired Headphones,AA Batteries (4-pack),Google Phone,Wired Headphones,AA Batteries (4-pack),Google Phone,Wired Headphones,AA Batteries (4-pack),Google Phone,Wired Headphones,AA Batteries (4-pack),Google Phone,Wired Headphones,AA Batteries (4-pack)        1\n",
       "Flatscreen TV,20in Monitor,Flatscreen TV,20in Monitor,Flatscreen TV,20in Monitor,Flatscreen TV,20in Monitor,Flatscreen TV,20in Monitor,Flatscreen TV,20in Monitor,Flatscreen TV,20in Monitor,Flatscreen TV,20in Monitor                                                                                                                                                                                                                1\n",
       "LG Washing Machine,20in Monitor,LG Washing Machine,20in Monitor,LG Washing Machine,20in Monitor,LG Washing Machine,20in Monitor,LG Washing Machine,20in Monitor,LG Washing Machine,20in Monitor,LG Washing Machine,20in Monitor,LG Washing Machine,20in Monitor                                                                                                                                                                        1\n",
       "Vareebadd Phone,Lightning Charging Cable,Vareebadd Phone,Lightning Charging Cable,Vareebadd Phone,Lightning Charging Cable,Vareebadd Phone,Lightning Charging Cable,Vareebadd Phone,Lightning Charging Cable,Vareebadd Phone,Lightning Charging Cable,Vareebadd Phone,Lightning Charging Cable,Vareebadd Phone,Lightning Charging Cable                                                                                                1\n",
       "Name: count, Length: 385, dtype: int64"
      ]
     },
     "execution_count": 90,
     "metadata": {},
     "output_type": "execute_result"
    }
   ],
   "source": [
    "df2['Gouped'].value_counts()"
   ]
  },
  {
   "cell_type": "code",
   "execution_count": null,
   "id": "88391f67",
   "metadata": {},
   "outputs": [],
   "source": []
  }
 ],
 "metadata": {
  "kernelspec": {
   "display_name": "Python 3 (ipykernel)",
   "language": "python",
   "name": "python3"
  },
  "language_info": {
   "codemirror_mode": {
    "name": "ipython",
    "version": 3
   },
   "file_extension": ".py",
   "mimetype": "text/x-python",
   "name": "python",
   "nbconvert_exporter": "python",
   "pygments_lexer": "ipython3",
   "version": "3.9.13"
  }
 },
 "nbformat": 4,
 "nbformat_minor": 5
}
